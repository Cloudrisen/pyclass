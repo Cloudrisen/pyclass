{
 "cells": [
  {
   "cell_type": "markdown",
   "metadata": {},
   "source": [
    "# 实验三 Python列表"
   ]
  },
  {
   "cell_type": "markdown",
   "metadata": {},
   "source": [
    "## 第一题：3和5的倍数（Multiples of 3 or 5）\n",
    "\n",
    "难度： 6kyu\n",
    "\n",
    "如果我们列出所有低于 10 的 3 或 5 倍数的自然数，我们得到 3、5、6 和 9。这些数的总和为 23. 完成一个函数，使其返回小于某个整数的所有是3 或 5 的倍数的数的总和。此外，如果数字为负数，则返回 0。\n",
    "\n",
    "注意：如果一个数同时是3和5的倍数，应该只被算一次。\n",
    "\n",
    "**提示：首先使用列表解析得到一个列表，元素全部是3或者5的倍数。\n",
    "使用sum函数可以获取这个列表所有元素的和.**\n",
    "\n",
    "代码提交地址：\n",
    "<https://www.codewars.com/kata/514b92a657cdc65150000006>"
   ]
  },
  {
   "cell_type": "code",
   "execution_count": null,
   "metadata": {},
   "outputs": [],
   "source": []
  }
 ],
 "metadata": {
  "language_info": {
   "name": "python"
  }
 },
 "nbformat": 4,
 "nbformat_minor": 2
}
