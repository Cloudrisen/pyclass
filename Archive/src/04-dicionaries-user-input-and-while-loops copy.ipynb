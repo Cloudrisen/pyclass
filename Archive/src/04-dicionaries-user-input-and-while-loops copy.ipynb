{
 "cells": [
  {
   "cell_type": "markdown",
   "metadata": {},
   "source": [
    "# 04-if语句、Python字典、用户输入和while循环"
   ]
  },
  {
   "cell_type": "markdown",
   "metadata": {},
   "source": [
    "## if语句"
   ]
  },
  {
   "cell_type": "code",
   "execution_count": 1,
   "metadata": {},
   "outputs": [
    {
     "name": "stdout",
     "output_type": "stream",
     "text": [
      "Audi\n",
      "BMW\n",
      "Subaru\n",
      "Toyota\n"
     ]
    }
   ],
   "source": [
    "cars = ['audi', 'bmw', 'subaru', 'toyota']\n",
    "for car in cars:\n",
    "    if car == 'bmw':\n",
    "        print(car.upper())\n",
    "    else:\n",
    "        print(car.title())        "
   ]
  },
  {
   "cell_type": "markdown",
   "metadata": {},
   "source": [
    "### 条件测试\n",
    "if语句的核心是一个值为`True`或`False`的表达式\n",
    "- `==` 和 `is` 操作符的区别\n",
    "- 检测是否不相等\n",
    "- 大于、小于\n",
    "- 使用and检查多个条件\n",
    "- 使用or检查多个条件\n",
    "- 检查是否在列表中： in 操作符\n",
    "- 检查某个数是不是为0，不为0表示True，0表示False"
   ]
  },
  {
   "cell_type": "code",
   "execution_count": null,
   "metadata": {},
   "outputs": [],
   "source": []
  },
  {
   "cell_type": "markdown",
   "metadata": {},
   "source": [
    "`==`操作符比较两个变量的值是否相等"
   ]
  },
  {
   "cell_type": "code",
   "execution_count": 5,
   "metadata": {},
   "outputs": [
    {
     "name": "stdout",
     "output_type": "stream",
     "text": [
      "True\n",
      "2045394489664\n",
      "2045395717056\n",
      "False\n"
     ]
    }
   ],
   "source": [
    "cars = ['audi', 'bmw', 'subaru', 'toyota']\n",
    "my_cars = cars[:] # 复制并创建一个新的列表\n",
    "print(my_cars == cars)\n",
    "print(id(my_cars))\n",
    "print(id(cars))\n",
    "print(my_cars is cars)"
   ]
  },
  {
   "cell_type": "code",
   "execution_count": 10,
   "metadata": {},
   "outputs": [
    {
     "name": "stdout",
     "output_type": "stream",
     "text": [
      "True\n",
      "False\n"
     ]
    }
   ],
   "source": [
    "print([1, 2, 3] == list(range(1, 4)))\n",
    "print([1,2,3] == (1, 2, 3)) # 比较一个列表和一个元组\n"
   ]
  },
  {
   "cell_type": "code",
   "execution_count": 11,
   "metadata": {},
   "outputs": [
    {
     "name": "stdout",
     "output_type": "stream",
     "text": [
      "True\n",
      "False\n"
     ]
    },
    {
     "name": "stderr",
     "output_type": "stream",
     "text": [
      "<>:2: SyntaxWarning: \"is\" with a literal. Did you mean \"==\"?\n",
      "<>:2: SyntaxWarning: \"is\" with a literal. Did you mean \"==\"?\n",
      "C:\\Users\\zhouj\\AppData\\Local\\Temp\\ipykernel_20508\\1041812418.py:2: SyntaxWarning: \"is\" with a literal. Did you mean \"==\"?\n",
      "  print(1 is 1.0)\n"
     ]
    }
   ],
   "source": [
    "print(1 == 1.0)\n",
    "print(1 is 1.0)"
   ]
  },
  {
   "cell_type": "markdown",
   "metadata": {},
   "source": [
    "如果两个变量使用`id()`函数返回相同的结果，对他们使用`is`会返回`True`"
   ]
  },
  {
   "cell_type": "code",
   "execution_count": null,
   "metadata": {},
   "outputs": [],
   "source": []
  },
  {
   "cell_type": "code",
   "execution_count": null,
   "metadata": {},
   "outputs": [],
   "source": []
  },
  {
   "cell_type": "markdown",
   "metadata": {},
   "source": [
    "检测是否不相等：`!=`"
   ]
  },
  {
   "cell_type": "code",
   "execution_count": null,
   "metadata": {},
   "outputs": [],
   "source": [
    "requested_toppings = 'mushrooms'\n",
    "if requested_toppings != 'anchovies':\n",
    "    print(\"Hold the anchovies!\")"
   ]
  },
  {
   "cell_type": "markdown",
   "metadata": {},
   "source": [
    "检测不是同一个对象：`is not`"
   ]
  },
  {
   "cell_type": "code",
   "execution_count": 12,
   "metadata": {},
   "outputs": [
    {
     "name": "stdout",
     "output_type": "stream",
     "text": [
      "True\n"
     ]
    }
   ],
   "source": [
    "cars = ['audi', 'bmw', 'subaru', 'toyota']\n",
    "my_cars = cars[:] # 复制并创建一个新的列表\n",
    "print(my_cars is not cars)"
   ]
  },
  {
   "cell_type": "markdown",
   "metadata": {},
   "source": [
    "数值比较大小：`>`, `>=`, `<`, `<=`"
   ]
  },
  {
   "cell_type": "code",
   "execution_count": 16,
   "metadata": {},
   "outputs": [
    {
     "name": "stdout",
     "output_type": "stream",
     "text": [
      "True\n",
      "True\n",
      "True\n",
      "False\n",
      "False\n"
     ]
    }
   ],
   "source": [
    "age = 18\n",
    "print(age == 18)\n",
    "print(age >= 18)\n",
    "print(age <= 18)\n",
    "print(age > 18)\n",
    "print(age < 18)"
   ]
  },
  {
   "cell_type": "markdown",
   "metadata": {},
   "source": [
    "使用`and`和`or`检查多个条件"
   ]
  },
  {
   "cell_type": "code",
   "execution_count": null,
   "metadata": {},
   "outputs": [],
   "source": [
    "age_0 = 22\n",
    "age_1 = 18\n",
    "age_3 = 25\n",
    "print(age_0 >= 21 and age_1 >= 21 and age_3 >= 21)\n",
    "print(age_0 >= 21 or age_1 >= 21)"
   ]
  },
  {
   "cell_type": "markdown",
   "metadata": {},
   "source": [
    "使用`in`操作符检查特定值是否包含在列表中,`not in`检查特定值是否不包含在列表中"
   ]
  },
  {
   "cell_type": "code",
   "execution_count": 17,
   "metadata": {},
   "outputs": [
    {
     "name": "stdout",
     "output_type": "stream",
     "text": [
      "True\n",
      "False\n"
     ]
    }
   ],
   "source": [
    "requested_toppings = ['mushrooms', 'onions', 'pineapple']\n",
    "print('mushrooms' in requested_toppings)\n",
    "print('onions' not in requested_toppings)"
   ]
  },
  {
   "cell_type": "markdown",
   "metadata": {},
   "source": [
    "简化多个条件"
   ]
  },
  {
   "cell_type": "code",
   "execution_count": null,
   "metadata": {},
   "outputs": [],
   "source": [
    "name = 'John'\n",
    "pwd = '123456'\n",
    "print(name == 'John' and pwd == '123456')\n",
    "print((name, pwd) == ('John', '123456'))"
   ]
  },
  {
   "cell_type": "code",
   "execution_count": null,
   "metadata": {},
   "outputs": [],
   "source": [
    "x = 1\n",
    "print(x == 0 or x == 1 or x==2)\n",
    "print(x in (0, 1, 2))"
   ]
  },
  {
   "cell_type": "markdown",
   "metadata": {},
   "source": [
    "`if-else`语句"
   ]
  },
  {
   "cell_type": "code",
   "execution_count": null,
   "metadata": {},
   "outputs": [],
   "source": [
    "age = 17\n",
    "if age >= 18:\n",
    "    print(\"You are old enough to vote!\")\n",
    "    print(\"Have you registered to vote yet?\")\n",
    "else:\n",
    "    print(\"Sorry, you are too young to vote.\")\n",
    "    print(\"Please register to vote as soon as you turn 18!\")"
   ]
  },
  {
   "cell_type": "markdown",
   "metadata": {},
   "source": [
    "`if...else`表达式"
   ]
  },
  {
   "cell_type": "code",
   "execution_count": null,
   "metadata": {},
   "outputs": [],
   "source": [
    "age = 17\n",
    "response = 'You can vote!' if age >= 18 else 'Sorry, you are too young to vote.'"
   ]
  },
  {
   "cell_type": "markdown",
   "metadata": {},
   "source": [
    "`if-elif-else`语句"
   ]
  },
  {
   "cell_type": "code",
   "execution_count": 18,
   "metadata": {},
   "outputs": [
    {
     "name": "stdout",
     "output_type": "stream",
     "text": [
      "Your admission cost is $5.\n"
     ]
    }
   ],
   "source": [
    "age = 12\n",
    "if age < 4:\n",
    "    print(\"Your admission cost is $0.\")\n",
    "elif age < 18:\n",
    "    print(\"Your admission cost is $5.\")\n",
    "else:\n",
    "    print(\"Your admission cost is $10.\")"
   ]
  },
  {
   "cell_type": "markdown",
   "metadata": {},
   "source": [
    "判断列表是否为空"
   ]
  },
  {
   "cell_type": "code",
   "execution_count": null,
   "metadata": {},
   "outputs": [],
   "source": [
    "requested_toppings = []\n",
    "if requested_toppings: # 列表为空时，返回False\n",
    "    for requested_topping in requested_toppings:\n",
    "        print(f\"Adding {requested_topping}.\")\n",
    "    print(\"\\nFinished making your pizza!\")\n",
    "else:\n",
    "    print(\"Are you sure you want a plain pizza?\")"
   ]
  },
  {
   "cell_type": "markdown",
   "metadata": {},
   "source": [
    "判断字符串是否为空"
   ]
  },
  {
   "cell_type": "code",
   "execution_count": 20,
   "metadata": {},
   "outputs": [
    {
     "name": "stdout",
     "output_type": "stream",
     "text": [
      "Please enter your name.\n"
     ]
    }
   ],
   "source": [
    "name = \"\"\n",
    "if name:\n",
    "    print(f\"Hello {name}!\")\n",
    "else:\n",
    "    print(\"Please enter your name.\")"
   ]
  },
  {
   "cell_type": "markdown",
   "metadata": {},
   "source": [
    "判断数值是否为0"
   ]
  },
  {
   "cell_type": "code",
   "execution_count": 24,
   "metadata": {},
   "outputs": [
    {
     "name": "stdout",
     "output_type": "stream",
     "text": [
      "x is zero.\n"
     ]
    }
   ],
   "source": [
    "x = 0.0 + 0j\n",
    "\n",
    "if x:\n",
    "    print(\"x is not zero.\")\n",
    "else:\n",
    "    print(\"x is zero.\")"
   ]
  },
  {
   "cell_type": "markdown",
   "metadata": {},
   "source": [
    "## 字典(dict)"
   ]
  },
  {
   "cell_type": "code",
   "execution_count": 28,
   "metadata": {},
   "outputs": [
    {
     "name": "stdout",
     "output_type": "stream",
     "text": [
      "green\n",
      "5\n",
      "{'color': 'green', 'points': 5}\n",
      "<class 'dict'>\n"
     ]
    }
   ],
   "source": [
    "alien_0 = { 'color': 'green', 'points' : 5   }\n",
    "print(alien_0['color'])\n",
    "print(alien_0['points'])\n",
    "print(alien_0)\n",
    "print(type(alien_0))"
   ]
  },
  {
   "cell_type": "markdown",
   "metadata": {},
   "source": [
    "添加键值对"
   ]
  },
  {
   "cell_type": "code",
   "execution_count": 33,
   "metadata": {},
   "outputs": [
    {
     "name": "stdout",
     "output_type": "stream",
     "text": [
      "{'color': 'yellow', 'points': 5, 'x_position': 0, 'y_position': 25}\n"
     ]
    }
   ],
   "source": [
    "alien_0['x_position'] = 0\n",
    "alien_0['y_position'] = 25\n",
    "print(alien_0)\n",
    "\n",
    "# 不能添加重复的key，只能更新原有的key对应的value\n",
    "# 字典中每个key都是唯一的\n",
    "alien_0['color'] = 'yellow'"
   ]
  },
  {
   "cell_type": "markdown",
   "metadata": {},
   "source": [
    "创建空字典"
   ]
  },
  {
   "cell_type": "code",
   "execution_count": 34,
   "metadata": {},
   "outputs": [],
   "source": [
    "empty_dict = {}"
   ]
  },
  {
   "cell_type": "markdown",
   "metadata": {},
   "source": [
    "修改字典中的值"
   ]
  },
  {
   "cell_type": "code",
   "execution_count": 35,
   "metadata": {},
   "outputs": [
    {
     "name": "stdout",
     "output_type": "stream",
     "text": [
      "{'color': 'red', 'points': 5, 'x_position': 0, 'y_position': 25}\n"
     ]
    }
   ],
   "source": [
    "alien_0['color'] = 'red'\n",
    "print(alien_0)"
   ]
  },
  {
   "cell_type": "markdown",
   "metadata": {},
   "source": [
    "删除键值对"
   ]
  },
  {
   "cell_type": "code",
   "execution_count": 36,
   "metadata": {},
   "outputs": [
    {
     "name": "stdout",
     "output_type": "stream",
     "text": [
      "{'color': 'red', 'x_position': 0, 'y_position': 25}\n"
     ]
    }
   ],
   "source": [
    "del alien_0['points']\n",
    "print(alien_0)"
   ]
  },
  {
   "cell_type": "markdown",
   "metadata": {},
   "source": [
    "由类似对象组成的字典"
   ]
  },
  {
   "cell_type": "code",
   "execution_count": 37,
   "metadata": {},
   "outputs": [
    {
     "name": "stdout",
     "output_type": "stream",
     "text": [
      "{'jen': 'python', 'sarah': 'c', 'edward': 'ruby', 'phil': 'python'}\n"
     ]
    }
   ],
   "source": [
    "favorite_languages = {\n",
    "    'jen': 'python',\n",
    "    'sarah': 'c',\n",
    "    'edward': 'ruby',\n",
    "    'phil': 'python',\n",
    "}\n",
    "\n",
    "print(favorite_languages)"
   ]
  },
  {
   "cell_type": "markdown",
   "metadata": {},
   "source": [
    "使用get()方法来返回默认值"
   ]
  },
  {
   "cell_type": "code",
   "execution_count": 38,
   "metadata": {},
   "outputs": [
    {
     "ename": "KeyError",
     "evalue": "'points'",
     "output_type": "error",
     "traceback": [
      "\u001b[1;31m---------------------------------------------------------------------------\u001b[0m",
      "\u001b[1;31mKeyError\u001b[0m                                  Traceback (most recent call last)",
      "\u001b[1;32mc:\\Users\\zhouj\\workspace\\python_course\\src\\04-dicionaries-user-input-and-while-loops\\04-dicionaries-user-input-and-while-loops copy.ipynb Cell 51\u001b[0m line \u001b[0;36m2\n\u001b[0;32m      <a href='vscode-notebook-cell:/c%3A/Users/zhouj/workspace/python_course/src/04-dicionaries-user-input-and-while-loops/04-dicionaries-user-input-and-while-loops%20copy.ipynb#X65sZmlsZQ%3D%3D?line=0'>1</a>\u001b[0m alien_0 \u001b[39m=\u001b[39m { \u001b[39m'\u001b[39m\u001b[39mcolor\u001b[39m\u001b[39m'\u001b[39m: \u001b[39m'\u001b[39m\u001b[39mgreen\u001b[39m\u001b[39m'\u001b[39m, \u001b[39m'\u001b[39m\u001b[39mspeed\u001b[39m\u001b[39m'\u001b[39m : \u001b[39m5\u001b[39m   }\n\u001b[1;32m----> <a href='vscode-notebook-cell:/c%3A/Users/zhouj/workspace/python_course/src/04-dicionaries-user-input-and-while-loops/04-dicionaries-user-input-and-while-loops%20copy.ipynb#X65sZmlsZQ%3D%3D?line=1'>2</a>\u001b[0m \u001b[39mprint\u001b[39m(alien_0[\u001b[39m'\u001b[39;49m\u001b[39mpoints\u001b[39;49m\u001b[39m'\u001b[39;49m])    \u001b[39m# KeyError: 'points'\u001b[39;00m\n",
      "\u001b[1;31mKeyError\u001b[0m: 'points'"
     ]
    }
   ],
   "source": [
    "alien_0 = { 'color': 'green', 'speed' : 5   }\n",
    "print(alien_0['points'])    # KeyError: 'points'"
   ]
  },
  {
   "cell_type": "code",
   "execution_count": null,
   "metadata": {},
   "outputs": [],
   "source": [
    "# get()方法，如果key不存在，返回None，或者返回第二个参数默认值\n",
    "print(alien_0.get('points', \"No point value assigned.\"))\")) "
   ]
  },
  {
   "cell_type": "markdown",
   "metadata": {},
   "source": [
    "遍历字典键值对"
   ]
  },
  {
   "cell_type": "code",
   "execution_count": 39,
   "metadata": {},
   "outputs": [
    {
     "name": "stdout",
     "output_type": "stream",
     "text": [
      "\n",
      "Key: username\n",
      "Value: efermi\n",
      "\n",
      "Key: first\n",
      "Value: enrico\n",
      "\n",
      "Key: last\n",
      "Value: fermi\n"
     ]
    }
   ],
   "source": [
    "user_0 = {\n",
    "    'username': 'efermi',\n",
    "    \"first\": 'enrico',\n",
    "    'last': 'fermi',\n",
    "}\n",
    "\n",
    "for key, value in user_0.items():\n",
    "    print(f\"\\nKey: {key}\")\n",
    "    print(f\"Value: {value}\")"
   ]
  },
  {
   "cell_type": "markdown",
   "metadata": {},
   "source": [
    "遍历字典的键"
   ]
  },
  {
   "cell_type": "code",
   "execution_count": 43,
   "metadata": {},
   "outputs": [
    {
     "name": "stdout",
     "output_type": "stream",
     "text": [
      "username\n",
      "first\n",
      "last\n",
      "username\n",
      "first\n",
      "last\n"
     ]
    }
   ],
   "source": [
    "for key in user_0.keys():\n",
    "    print(key)\n",
    "\n",
    "for key in user_0:\n",
    "    print(key)"
   ]
  },
  {
   "cell_type": "markdown",
   "metadata": {},
   "source": [
    "遍历字典中的值"
   ]
  },
  {
   "cell_type": "code",
   "execution_count": 44,
   "metadata": {},
   "outputs": [
    {
     "name": "stdout",
     "output_type": "stream",
     "text": [
      "efermi\n",
      "enrico\n",
      "fermi\n"
     ]
    }
   ],
   "source": [
    "for value in user_0.values():\n",
    "    print(value)"
   ]
  },
  {
   "cell_type": "markdown",
   "metadata": {},
   "source": [
    "使用set()函数剔除重复项"
   ]
  },
  {
   "cell_type": "code",
   "execution_count": 46,
   "metadata": {},
   "outputs": [
    {
     "name": "stdout",
     "output_type": "stream",
     "text": [
      "dict_values(['python', 'c', 'ruby', 'python'])\n",
      "{'c', 'ruby', 'python'}\n"
     ]
    }
   ],
   "source": [
    "favorite_languages = {\n",
    "    'jen': 'python',\n",
    "    'sarah': 'c',\n",
    "    'edward': 'ruby',\n",
    "    'phil': 'python',\n",
    "}\n",
    "print(favorite_languages.values())\n",
    "print(set(favorite_languages.values()))"
   ]
  },
  {
   "cell_type": "markdown",
   "metadata": {},
   "source": [
    "### set集合数据结构\n",
    "- 不包含重复的元素\n",
    "- 和dict同样使用`{  }`来定义, 但不是键值对\n",
    "- 空的集合用`set()`表示, `{}`表示的是空的字典"
   ]
  },
  {
   "cell_type": "code",
   "execution_count": 49,
   "metadata": {},
   "outputs": [
    {
     "name": "stdout",
     "output_type": "stream",
     "text": [
      "set()\n",
      "{}\n",
      "<class 'dict'>\n"
     ]
    }
   ],
   "source": [
    "print(set())\n",
    "print({}) # empty dict\n",
    "print(type({}))"
   ]
  },
  {
   "cell_type": "markdown",
   "metadata": {},
   "source": [
    "嵌套的数据结构： 字典列表"
   ]
  },
  {
   "cell_type": "code",
   "execution_count": 51,
   "metadata": {},
   "outputs": [
    {
     "data": {
      "text/plain": [
       "[{'color': 'green', 'speed': 5},\n",
       " {'color': 'yellow', 'speed': 10},\n",
       " {'color': 'red', 'speed': 15}]"
      ]
     },
     "execution_count": 51,
     "metadata": {},
     "output_type": "execute_result"
    }
   ],
   "source": [
    "alien_0 = { 'color': 'green', 'speed' : 5   }\n",
    "alien_1 = { 'color': 'yellow', 'speed' : 10   }\n",
    "alien_2 = { 'color': 'red', 'speed' : 15   }\n",
    "\n",
    "aliens = [alien_0, alien_1, alien_2]\n",
    "aliens"
   ]
  },
  {
   "cell_type": "markdown",
   "metadata": {},
   "source": [
    "在字典中存储列表"
   ]
  },
  {
   "cell_type": "code",
   "execution_count": 52,
   "metadata": {},
   "outputs": [
    {
     "name": "stdout",
     "output_type": "stream",
     "text": [
      "{'crust': 'thick', 'toppings': ['mushrooms', 'extra cheese']}\n"
     ]
    }
   ],
   "source": [
    "pizza = {\n",
    "    'crust': 'thick',\n",
    "    'toppings': ['mushrooms', 'extra cheese'],\n",
    "}\n",
    "print(pizza)"
   ]
  },
  {
   "cell_type": "code",
   "execution_count": 53,
   "metadata": {},
   "outputs": [
    {
     "data": {
      "text/plain": [
       "{'jen': ['python', 'ruby'],\n",
       " 'sarah': ['c'],\n",
       " 'edward': ['ruby', 'go'],\n",
       " 'phil': ['python', 'haskell']}"
      ]
     },
     "execution_count": 53,
     "metadata": {},
     "output_type": "execute_result"
    }
   ],
   "source": [
    "favorite_languages = {\n",
    "    'jen': ['python', 'ruby'],\n",
    "    'sarah': ['c'],\n",
    "    'edward': ['ruby', 'go'],\n",
    "    'phil': ['python', 'haskell'],\n",
    "}\n",
    "favorite_languages"
   ]
  },
  {
   "cell_type": "markdown",
   "metadata": {},
   "source": [
    "在字典中存储字典"
   ]
  },
  {
   "cell_type": "code",
   "execution_count": 54,
   "metadata": {},
   "outputs": [
    {
     "data": {
      "text/plain": [
       "{'aeinstein': {'first': 'albert', 'last': 'einstein', 'location': 'princeton'},\n",
       " 'mcurie': {'first': 'marie', 'last': 'curie', 'location': 'paris'}}"
      ]
     },
     "execution_count": 54,
     "metadata": {},
     "output_type": "execute_result"
    }
   ],
   "source": [
    "users = {\n",
    "    'aeinstein': {\n",
    "        'first': 'albert',\n",
    "        'last': 'einstein',\n",
    "        'location': 'princeton',\n",
    "    },\n",
    "    'mcurie': {\n",
    "        'first': 'marie',\n",
    "        'last': 'curie',   \n",
    "        'location': 'paris',\n",
    "    },\n",
    "}\n",
    "users    "
   ]
  },
  {
   "cell_type": "markdown",
   "metadata": {},
   "source": [
    "### 用户输入\n",
    "\n",
    "- 使用input函数，用户可以在控制台进行输入。\n",
    "- input()接受一个参数，要向用户显示的提示（prompt）或说明。\n",
    "- input接受用户的输入后，将返回包含用户输入内容的字符串\n",
    "- 用户输入的数字也是`str`类型，进行数值相关操作时必须转换成对应的数值类型，例如使用`int()`函数或`float()`函数\n"
   ]
  },
  {
   "cell_type": "code",
   "execution_count": 55,
   "metadata": {},
   "outputs": [],
   "source": [
    "message = input(\"Tell me something, and I will repeat it back to you: \")"
   ]
  },
  {
   "cell_type": "code",
   "execution_count": 56,
   "metadata": {},
   "outputs": [
    {
     "name": "stdout",
     "output_type": "stream",
     "text": [
      "Hello , have a nice day.\n"
     ]
    }
   ],
   "source": [
    "print(message)"
   ]
  },
  {
   "cell_type": "code",
   "execution_count": 60,
   "metadata": {},
   "outputs": [],
   "source": [
    "age = int(input(\"How old are you? \"))"
   ]
  },
  {
   "cell_type": "code",
   "execution_count": 61,
   "metadata": {},
   "outputs": [
    {
     "data": {
      "text/plain": [
       "22"
      ]
     },
     "execution_count": 61,
     "metadata": {},
     "output_type": "execute_result"
    }
   ],
   "source": [
    "age"
   ]
  },
  {
   "cell_type": "code",
   "execution_count": 62,
   "metadata": {},
   "outputs": [
    {
     "data": {
      "text/plain": [
       "True"
      ]
     },
     "execution_count": 62,
     "metadata": {},
     "output_type": "execute_result"
    }
   ],
   "source": [
    "age >= 18"
   ]
  },
  {
   "cell_type": "markdown",
   "metadata": {},
   "source": [
    "### while循环"
   ]
  },
  {
   "cell_type": "code",
   "execution_count": 63,
   "metadata": {},
   "outputs": [
    {
     "name": "stdout",
     "output_type": "stream",
     "text": [
      "Verifying user: Candace\n",
      "Verifying user: Brian\n",
      "Verifying user: Alice\n",
      "\n",
      "The following users have been confirmed:\n",
      "Candace\n",
      "Brian\n",
      "Alice\n"
     ]
    }
   ],
   "source": [
    "unconfirmed_users = ['alice', 'brian', 'candace']\n",
    "confirmed_users = []\n",
    "\n",
    "# for循环遍历列表时，不可以修改列表\n",
    "# for user in unconfirmed_users:\n",
    "\n",
    "while unconfirmed_users: # 列表不为空，就继续循环\n",
    "    current_user = unconfirmed_users.pop()\n",
    "    print(f\"Verifying user: {current_user.title()}\")\n",
    "    confirmed_users.append(current_user)\n",
    "    \n",
    "print(f\"\\nThe following users have been confirmed:\")\n",
    "for confirmed_user in confirmed_users:\n",
    "    print(confirmed_user.title())    "
   ]
  },
  {
   "cell_type": "markdown",
   "metadata": {},
   "source": [
    "### `match/case`语句\n",
    "- Python 3.10引入了新的`match/case`语句\n",
    "- `match/case`语句类似于C和Java中的`switch/case`语句，但更加强大,可以匹配更多的模式\n",
    "- 具体可以参考官方文档[PEP 636 – Structural Pattern Matching:\n",
    "Tutorial](https://peps.python.org/pep-0636/)\n",
    "- 或者参考《Fluent Python》一书中这些小节：\n",
    "  - Pattern Matching with Sequences\n",
    "  - Pattern Matching with Mapping\n",
    "  - Pattern Matching Class Instances\n",
    "  - Pattern Matching in lis.py: A Case Study "
   ]
  },
  {
   "cell_type": "code",
   "execution_count": 69,
   "metadata": {},
   "outputs": [],
   "source": [
    "# 输入格式为: action object\n",
    "# 例如： \n",
    "# go north\n",
    "# get sword\n",
    "# attack orc\n",
    "# look\n",
    "# quit\n",
    "command = input(\"What are you doing next? \")"
   ]
  },
  {
   "cell_type": "code",
   "execution_count": 70,
   "metadata": {},
   "outputs": [
    {
     "name": "stdout",
     "output_type": "stream",
     "text": [
      "['go', 'east']\n"
     ]
    }
   ],
   "source": [
    "print(command.split())"
   ]
  },
  {
   "cell_type": "code",
   "execution_count": 71,
   "metadata": {},
   "outputs": [
    {
     "name": "stdout",
     "output_type": "stream",
     "text": [
      "Go to the east\n"
     ]
    }
   ],
   "source": [
    "match command.split():\n",
    "    case [\"quit\"]:\n",
    "        print(\"Goodbye!\")\n",
    "        print(\"quit_game()\")\n",
    "    case [\"look\"]:        \n",
    "        print(\"current_room.describe()\")\n",
    "    case [\"get\", obj]:\n",
    "        print(f\"Get a {obj}\")\n",
    "    case [\"go\", direction]:\n",
    "        print(f\"Go to the {direction}\")\n",
    "    case _:\n",
    "        print(\"Unknown command.\")"
   ]
  },
  {
   "cell_type": "markdown",
   "metadata": {},
   "source": [
    "### 习题：从两个列表来创建字典\n",
    "有两个列表，可能有不同的长度。第一个由 keys 组成，第二个由 values 组成。\n",
    "\n",
    "写一个函数 createDict(keys, values) ，返回由 keys 和 values 创建的 dictionary。如果没有足够的值，其余的键应该有一个 None 值。如果没有足够的键，就忽略其余的值。\n",
    "\n",
    "Examples:\n",
    "```python\n",
    "keys = ['a', 'b', 'c', 'd']\n",
    "values = [1, 2, 3]\n",
    "createDict(keys, values) # {'a': 1, 'b': 2, 'c': 3, 'd': None}\n",
    "\n",
    "keys = ['a', 'b', 'c']\n",
    "values = [1, 2, 3, 4]\n",
    "createDict(keys, values) # {'a': 1, 'b': 2, 'c': 3}\n",
    "```"
   ]
  },
  {
   "cell_type": "code",
   "execution_count": 73,
   "metadata": {},
   "outputs": [],
   "source": [
    "def createDict(keys, values):\n",
    "    index = 0\n",
    "    result = {}\n",
    "    for key in keys:\n",
    "        if index < len(values):\n",
    "            result[key] = values[index]\n",
    "        else:\n",
    "            result[key] = None\n",
    "        index +=1   \n",
    "    return result"
   ]
  },
  {
   "cell_type": "code",
   "execution_count": 74,
   "metadata": {},
   "outputs": [
    {
     "data": {
      "text/plain": [
       "{'a': 1, 'b': 2, 'c': 3, 'd': None}"
      ]
     },
     "execution_count": 74,
     "metadata": {},
     "output_type": "execute_result"
    }
   ],
   "source": [
    "keys = ['a', 'b', 'c', 'd']\n",
    "values = [1, 2, 3]\n",
    "createDict(keys, values) # {'a': 1, 'b': 2, 'c': 3, 'd': None}"
   ]
  },
  {
   "cell_type": "code",
   "execution_count": 75,
   "metadata": {},
   "outputs": [
    {
     "data": {
      "text/plain": [
       "{'a': 1, 'b': 2, 'c': 3}"
      ]
     },
     "execution_count": 75,
     "metadata": {},
     "output_type": "execute_result"
    }
   ],
   "source": [
    "keys = ['a', 'b', 'c']\n",
    "values = [1, 2, 3, 4]\n",
    "createDict(keys, values) # {'a': 1, 'b': 2, 'c': 3}"
   ]
  },
  {
   "cell_type": "markdown",
   "metadata": {},
   "source": [
    "### 习题： 括号匹配\n",
    "\n",
    "写一个函数，接收一串括号，并确定括号的顺序是否有效。如果字符串是有效的，它应该返回True，如果是无效的，它应该返回False。\n",
    "\n",
    "例如：\n",
    "```\n",
    "\"(){}[]\" => True \n",
    "\"([{}])\" => True\n",
    " \"(}\" => False\n",
    " \"[(])\" => False \n",
    "\"[({})](]\" => False\n",
    "```"
   ]
  },
  {
   "cell_type": "code",
   "execution_count": null,
   "metadata": {},
   "outputs": [],
   "source": [
    "def match_brackets(s):\n",
    "    stack = []\n",
    "\n",
    "    return not stack"
   ]
  }
 ],
 "metadata": {
  "kernelspec": {
   "display_name": "Python 3 (ipykernel)",
   "language": "python",
   "name": "python3"
  },
  "language_info": {
   "codemirror_mode": {
    "name": "ipython",
    "version": 3
   },
   "file_extension": ".py",
   "mimetype": "text/x-python",
   "name": "python",
   "nbconvert_exporter": "python",
   "pygments_lexer": "ipython3",
   "version": "3.10.6"
  }
 },
 "nbformat": 4,
 "nbformat_minor": 2
}
