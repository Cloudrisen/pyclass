{
 "cells": [
  {
   "cell_type": "markdown",
   "metadata": {},
   "source": [
    "# 11-Python序列数据"
   ]
  },
  {
   "cell_type": "markdown",
   "metadata": {},
   "source": [
    "## 大纲"
   ]
  },
  {
   "cell_type": "markdown",
   "metadata": {},
   "source": [
    "- 概述\n",
    "- 列表推导式与生成器表达式\n",
    "- 拆包与嵌套拆包\n",
    "- 序列模式匹配\n",
    "- 切片\n",
    "- 其他序列数据结构： 数组，memeoryview, 双端队列和其他队列"
   ]
  },
  {
   "cell_type": "markdown",
   "metadata": {},
   "source": [
    "## 概述"
   ]
  },
  {
   "cell_type": "markdown",
   "metadata": {},
   "source": [
    "序列数据可以分为：\n",
    "\n",
    "- 容器序列（container sequence）: 可以存放不同类型的元素，包括嵌套的容器，例如： list, tuple, collections.deque\n",
    "- 扁平序列（flat sequence）: 可以存放一种简单类型的元素。例如：str, bytes, array.array"
   ]
  },
  {
   "cell_type": "markdown",
   "metadata": {},
   "source": [
    "![container vs flat](./img/2024-03-25-16-28-16.png)"
   ]
  },
  {
   "cell_type": "markdown",
   "metadata": {},
   "source": [
    "任何Python对象在内存中都有一个包含元数据的标头。最简单的Python对象，例如一个float，内存标头中有一个值字段和两个元数据字段。\n",
    "\n",
    "- ob_refcnt：对象的引用计数\n",
    "- ob_type：指向对象类型的指针。\n",
    "- ob_fval：一个 C 语言 double 类型值，存放 float 的值。"
   ]
  },
  {
   "cell_type": "markdown",
   "metadata": {},
   "source": [
    "序列数据还可以分为：\n",
    "\n",
    "- 可变序列（mutable sequence）:\n",
    "- 不可变序列（immutable sequence）:"
   ]
  },
  {
   "cell_type": "markdown",
   "metadata": {},
   "source": [
    "## 列表推导式与生成器表达式"
   ]
  },
  {
   "cell_type": "markdown",
   "metadata": {},
   "source": [
    "- Python 会忽略 []、{} 和 () 内部的换行。因此，列表、列表推导式、元\n",
    "组、字典等结构完全可以分成几行来写，无须使用续行转义符 \\。\n",
    "- 使用这3种括号定义字面量时，项与项之间使用逗号分隔，末尾的逗号将被忽略。\n",
    "- 因此，跨多行定义列表字面量时，最好在最后一项后面添加一个逗号。这样不仅能方便其他程序员为列表添加更多项，还可以减少代码差异给阅读\n",
    "带来的干扰。"
   ]
  },
  {
   "cell_type": "code",
   "execution_count": null,
   "metadata": {},
   "outputs": [],
   "source": []
  },
  {
   "cell_type": "markdown",
   "metadata": {},
   "source": [
    "## 使用双端队列deque"
   ]
  },
  {
   "cell_type": "markdown",
   "metadata": {},
   "source": [
    "- `list` 只有在末尾附加（`append`）数据时是高效的.\n",
    "- 使用`deque` 在头和尾都可以高效地操作数据."
   ]
  },
  {
   "cell_type": "code",
   "execution_count": 1,
   "metadata": {},
   "outputs": [
    {
     "name": "stdout",
     "output_type": "stream",
     "text": [
      "deque([-1, 0, 1, 2, 3, 4, 5, 6, 7, 8, 9, 11])\n",
      "deque([0, 1, 2, 3, 4, 5, 6, 7, 8, 9])\n"
     ]
    }
   ],
   "source": [
    "from collections import deque\n",
    "dq = deque(range(10))\n",
    "dq.append(11)\n",
    "dq.appendleft(-1)  # appendleft效率比insert(0, -1)高\n",
    "print(dq)\n",
    "\n",
    "dq.pop()\n",
    "dq.popleft()\n",
    "print(dq)"
   ]
  },
  {
   "cell_type": "code",
   "execution_count": 2,
   "metadata": {},
   "outputs": [
    {
     "data": {
      "text/plain": [
       "5"
      ]
     },
     "execution_count": 2,
     "metadata": {},
     "output_type": "execute_result"
    }
   ],
   "source": [
    "dq.index(5)"
   ]
  },
  {
   "cell_type": "code",
   "execution_count": 3,
   "metadata": {},
   "outputs": [
    {
     "name": "stdout",
     "output_type": "stream",
     "text": [
      "deque([-3, -2, -1, 0, 1, 2, 3, 4, 5, 6, 7, 8, 9, 11, 12, 13])\n"
     ]
    }
   ],
   "source": [
    "dq.extend([11, 12, 13])\n",
    "dq.extendleft([-1, -2, -3])\n",
    "print(dq)  "
   ]
  },
  {
   "cell_type": "code",
   "execution_count": 4,
   "metadata": {},
   "outputs": [
    {
     "name": "stdout",
     "output_type": "stream",
     "text": [
      "deque([13, -3, -2, -1, 0, 1, 2, 3, 4, 5, 6, 7, 8, 9, 11, 12])\n",
      "deque([0, 1, 2, 3, 4, 5, 6, 7, 8, 9, 11, 12, 13, -3, -2, -1])\n"
     ]
    }
   ],
   "source": [
    "dq.rotate(1)  # 向右旋转1位\n",
    "print(dq)\n",
    "\n",
    "dq.rotate(-4)  # 向左旋转1位\n",
    "print(dq)"
   ]
  },
  {
   "cell_type": "markdown",
   "metadata": {},
   "source": [
    "## `match/case`语句"
   ]
  },
  {
   "cell_type": "markdown",
   "metadata": {},
   "source": [
    "- Python 3.10引入了新的`match/case`语句\n",
    "- `match/case`语句类似于C和Java中的`switch/case`语句，但更加强大,可以匹配更多的模式\n",
    "- 具体可以参考官方文档[PEP 636 – Structural Pattern Matching:\n",
    "Tutorial](https://peps.python.org/pep-0636/)\n",
    "- 或者参考《Fluent Python》一书中这些小节：\n",
    "  - Pattern Matching with Sequences\n",
    "  - Pattern Matching with Mapping\n",
    "  - Pattern Matching Class Instances\n",
    "  - Pattern Matching in lis.py: A Case Study"
   ]
  },
  {
   "cell_type": "code",
   "execution_count": null,
   "metadata": {},
   "outputs": [],
   "source": [
    "# 输入格式为: action object\n",
    "# 例如： \n",
    "# move north\n",
    "# get sword\n",
    "# attack orc\n",
    "command = input(\"What are you doing next? \")"
   ]
  },
  {
   "cell_type": "code",
   "execution_count": null,
   "metadata": {},
   "outputs": [],
   "source": [
    "match command.split():\n",
    "    case [\"quit\"]:\n",
    "        print(\"Goodbye!\")\n",
    "        print(\"quit_game()\")\n",
    "    case [\"look\"]:        \n",
    "        print(\"current_room.describe()\")\n",
    "    case [\"get\", obj]:\n",
    "        print(f\"Get a {obj}\")\n",
    "    case [\"go\", direction]:\n",
    "        print(f\"Go to the {direction}\")\n",
    "    case _:\n",
    "        print(\"Unknown command.\")"
   ]
  }
 ],
 "metadata": {
  "kernelspec": {
   "display_name": "Python 3",
   "language": "python",
   "name": "python3"
  },
  "language_info": {
   "codemirror_mode": {
    "name": "ipython",
    "version": 3
   },
   "file_extension": ".py",
   "mimetype": "text/x-python",
   "name": "python",
   "nbconvert_exporter": "python",
   "pygments_lexer": "ipython3",
   "version": "3.10.6"
  }
 },
 "nbformat": 4,
 "nbformat_minor": 2
}
