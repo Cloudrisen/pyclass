{
 "cells": [
  {
   "cell_type": "markdown",
   "metadata": {},
   "source": [
    "# Python序列数据"
   ]
  },
  {
   "cell_type": "code",
   "execution_count": null,
   "metadata": {},
   "outputs": [],
   "source": []
  },
  {
   "cell_type": "markdown",
   "metadata": {},
   "source": [
    "## 使用双端队列deque"
   ]
  },
  {
   "cell_type": "markdown",
   "metadata": {},
   "source": [
    "- `list` 只有在末尾附加（`append`）数据时是高效的.\n",
    "- 使用`deque` 在头和尾都可以高效地操作数据."
   ]
  },
  {
   "cell_type": "code",
   "execution_count": 1,
   "metadata": {},
   "outputs": [
    {
     "name": "stdout",
     "output_type": "stream",
     "text": [
      "deque([-1, 0, 1, 2, 3, 4, 5, 6, 7, 8, 9, 11])\n",
      "deque([0, 1, 2, 3, 4, 5, 6, 7, 8, 9])\n"
     ]
    }
   ],
   "source": [
    "from collections import deque\n",
    "dq = deque(range(10))\n",
    "dq.append(11)\n",
    "dq.appendleft(-1)  # appendleft效率比insert(0, -1)高\n",
    "print(dq)\n",
    "\n",
    "dq.pop()\n",
    "dq.popleft()\n",
    "print(dq)"
   ]
  },
  {
   "cell_type": "code",
   "execution_count": 2,
   "metadata": {},
   "outputs": [
    {
     "data": {
      "text/plain": [
       "5"
      ]
     },
     "execution_count": 2,
     "metadata": {},
     "output_type": "execute_result"
    }
   ],
   "source": [
    "dq.index(5)"
   ]
  },
  {
   "cell_type": "code",
   "execution_count": 3,
   "metadata": {},
   "outputs": [
    {
     "name": "stdout",
     "output_type": "stream",
     "text": [
      "deque([-3, -2, -1, 0, 1, 2, 3, 4, 5, 6, 7, 8, 9, 11, 12, 13])\n"
     ]
    }
   ],
   "source": [
    "dq.extend([11, 12, 13])\n",
    "dq.extendleft([-1, -2, -3])\n",
    "print(dq)  "
   ]
  },
  {
   "cell_type": "code",
   "execution_count": 4,
   "metadata": {},
   "outputs": [
    {
     "name": "stdout",
     "output_type": "stream",
     "text": [
      "deque([13, -3, -2, -1, 0, 1, 2, 3, 4, 5, 6, 7, 8, 9, 11, 12])\n",
      "deque([0, 1, 2, 3, 4, 5, 6, 7, 8, 9, 11, 12, 13, -3, -2, -1])\n"
     ]
    }
   ],
   "source": [
    "dq.rotate(1)  # 向右旋转1位\n",
    "print(dq)\n",
    "\n",
    "dq.rotate(-4)  # 向左旋转1位\n",
    "print(dq)"
   ]
  }
 ],
 "metadata": {
  "kernelspec": {
   "display_name": "Python 3",
   "language": "python",
   "name": "python3"
  },
  "language_info": {
   "codemirror_mode": {
    "name": "ipython",
    "version": 3
   },
   "file_extension": ".py",
   "mimetype": "text/x-python",
   "name": "python",
   "nbconvert_exporter": "python",
   "pygments_lexer": "ipython3",
   "version": "3.10.6"
  }
 },
 "nbformat": 4,
 "nbformat_minor": 2
}
