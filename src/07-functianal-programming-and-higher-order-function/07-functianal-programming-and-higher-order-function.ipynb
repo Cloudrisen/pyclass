{
 "cells": [
  {
   "cell_type": "markdown",
   "metadata": {},
   "source": [
    "# 07-Python函数式编程与高阶函数"
   ]
  },
  {
   "cell_type": "markdown",
   "metadata": {},
   "source": [
    "## Python函数的类型提示\n",
    "\n",
    "如果实际的参数类型与类型提示不符合，程序会报错吗？"
   ]
  },
  {
   "cell_type": "code",
   "execution_count": 13,
   "metadata": {},
   "outputs": [
    {
     "data": {
      "text/plain": [
       "'l'"
      ]
     },
     "execution_count": 13,
     "metadata": {},
     "output_type": "execute_result"
    }
   ],
   "source": [
    "# 函数定义的类型提示需要接收：\n",
    "# 一个列表参数\n",
    "# 一个整型参数\n",
    "# 返回一个整数值\n",
    "def pick(l:list, index:int) -> int:\n",
    "    return l[index]\n",
    "\n",
    "pick(\"hello\", 2)"
   ]
  },
  {
   "cell_type": "markdown",
   "metadata": {},
   "source": [
    "Python中的类型提示:\n",
    "    \n",
    "- 类型提示是可选的\n",
    "- 不会在运行时捕捉任何类型错误\n",
    "- 不会用于优化程序的性能"
   ]
  },
  {
   "cell_type": "markdown",
   "metadata": {},
   "source": [
    "## 定义main函数\n",
    "\n",
    "main函数是程序的入口函数，Python中的main函数是可选的，通常的写法如下："
   ]
  },
  {
   "cell_type": "code",
   "execution_count": 14,
   "metadata": {},
   "outputs": [
    {
     "name": "stdout",
     "output_type": "stream",
     "text": [
      "This is main function.\n"
     ]
    }
   ],
   "source": [
    "def main():\n",
    "    # main函数应该作为程序的入口函数\n",
    "    print(\"This is main function.\")\n",
    "\n",
    "# 只有当前文件是程序启动的文件时，if条件判断为True    \n",
    "if __name__ == \"__main__\":\n",
    "    main()"
   ]
  },
  {
   "cell_type": "markdown",
   "metadata": {},
   "source": [
    "main函数的最佳实践：\n",
    "\n",
    "- 把运行时间长的或者有其他效果的代码放入函数或类中。\n",
    "- 使用__name__和条件语句来控制代码的执行。\n",
    "- 将入口函数命名为main()，把程序的入口逻辑放入main()函数中。\n",
    "- 在main()函数中调用其他函数或者类。"
   ]
  },
  {
   "cell_type": "markdown",
   "metadata": {},
   "source": [
    "## 变量作用域范围\n",
    "\n",
    "- 全局变量（global）：在函数外部定义的变量\n",
    "- 局部变量（local）：在函数内部定义的变量\n",
    "- global： 在函数内部使用global关键字声明全局变量"
   ]
  },
  {
   "cell_type": "code",
   "execution_count": 11,
   "metadata": {},
   "outputs": [
    {
     "name": "stdout",
     "output_type": "stream",
     "text": [
      "100\n",
      "goodbye\n",
      "goodbye\n"
     ]
    }
   ],
   "source": [
    "# 这是一个全局变量\n",
    "msg = 'hello'\n",
    "\n",
    "def greet():\n",
    "        \n",
    "    # 这是一个局部变量    \n",
    "    local_var = 100\n",
    "    print(local_var)\n",
    "    \n",
    "    # 局部变量与全局变量同名，会覆盖全局变量\n",
    "    global msg # 声明为全局变量\n",
    "    msg = 'goodbye'\n",
    "    print(msg)\n",
    "\n",
    "greet()\n",
    "# 打印全局变量    \n",
    "print(msg)\n",
    "    \n",
    "    "
   ]
  },
  {
   "cell_type": "markdown",
   "metadata": {},
   "source": [
    "## 编程范式：\n",
    "\n",
    "- 面向过程编程： C语言\n",
    "- 面向对象编程： Java语言，Python语言\n",
    "- 函数式编程： Lisp语言，Haskell语言，Scala语言，Python语言\n"
   ]
  },
  {
   "cell_type": "markdown",
   "metadata": {},
   "source": [
    "## 什么是函数式编程？\n",
    "\n",
    "函数式编程是一种编程范式，它将计算机运算视为数学函数的计算，并且避免使用程序状态以及易变对象。\n",
    "\n",
    "- 函数是头等对象，函数可以是：\n",
    "  - 变量\n",
    "  - 函数的参数\n",
    "  - 函数的返回值\n",
    "- 变量是不可变的\n",
    "- 递归取代循环\n",
    "- 函数是无副作用的（不要改变程序状态）\n",
    "- 使用Lambda函数：匿名函数\n",
    "- 使用高阶函数：函数参数是一个函数，或者函数的返回值是一个函数"
   ]
  },
  {
   "cell_type": "markdown",
   "metadata": {},
   "source": [
    "## Lambda函数（匿名函数）"
   ]
  },
  {
   "cell_type": "code",
   "execution_count": 17,
   "metadata": {},
   "outputs": [
    {
     "data": {
      "text/plain": [
       "<function __main__.<lambda>(x)>"
      ]
     },
     "execution_count": 17,
     "metadata": {},
     "output_type": "execute_result"
    }
   ],
   "source": [
    "lambda x: x * 2"
   ]
  },
  {
   "cell_type": "code",
   "execution_count": 16,
   "metadata": {},
   "outputs": [
    {
     "data": {
      "text/plain": [
       "20"
      ]
     },
     "execution_count": 16,
     "metadata": {},
     "output_type": "execute_result"
    }
   ],
   "source": [
    "double = lambda x: x * 2\n",
    "double(10)"
   ]
  },
  {
   "cell_type": "markdown",
   "metadata": {},
   "source": [
    "## 高阶函数\n",
    "\n",
    "函数参数是一个函数，或者函数的返回值是一个函数"
   ]
  },
  {
   "cell_type": "markdown",
   "metadata": {},
   "source": [
    "list的sort方法的key参数，可以 接收一个函数作为参数，这个函数的返回值将作为排序的依据。"
   ]
  },
  {
   "cell_type": "code",
   "execution_count": 19,
   "metadata": {},
   "outputs": [
    {
     "data": {
      "text/plain": [
       "['BMW', 'Ford', 'Volvo', 'Honda', 'Tesla']"
      ]
     },
     "execution_count": 19,
     "metadata": {},
     "output_type": "execute_result"
    }
   ],
   "source": [
    "cars = ['Ford', 'Volvo', 'BMW', 'Honda', 'Tesla']\n",
    "# 根据元素的长度来排序\n",
    "cars.sort(key=lambda x: len(x))\n",
    "cars"
   ]
  },
  {
   "cell_type": "markdown",
   "metadata": {},
   "source": [
    "将下面的数据安装成绩排序：\n",
    "\n",
    "```python\n",
    "[('English', 88), ('Science', 90), ('Maths', 97), ('Social sciences', 82)]\n",
    "```"
   ]
  },
  {
   "cell_type": "code",
   "execution_count": 25,
   "metadata": {},
   "outputs": [
    {
     "data": {
      "text/plain": [
       "[('Social sciences', 82), ('English', 88), ('Science', 97), ('Maths', 97)]"
      ]
     },
     "execution_count": 25,
     "metadata": {},
     "output_type": "execute_result"
    }
   ],
   "source": [
    "scores = [('English', 88), ('Science', 97), ('Maths', 97), ('Social sciences', 82)]\n",
    "scores.sort(key=lambda x:x[-1])\n",
    "scores"
   ]
  },
  {
   "cell_type": "markdown",
   "metadata": {},
   "source": [
    "首先按照成绩排序，然后按照科目排序"
   ]
  },
  {
   "cell_type": "code",
   "execution_count": 28,
   "metadata": {},
   "outputs": [
    {
     "data": {
      "text/plain": [
       "[('Maths', 97), ('Science', 97), ('English', 88), ('Social sciences', 82)]"
      ]
     },
     "execution_count": 28,
     "metadata": {},
     "output_type": "execute_result"
    }
   ],
   "source": [
    "scores = [('English', 88), ('Science', 97), ('Maths', 97), ('Social sciences', 82)]\n",
    "scores.sort(key=lambda x:(x[-1], x[0]))\n",
    "scores"
   ]
  },
  {
   "cell_type": "markdown",
   "metadata": {},
   "source": [
    "## Map函数\n",
    "\n",
    "这是最常见的高阶函数。它接收一个函数（通常是lambda函数）和一个或多个可迭代对象（例如list或者tuple）作为参数，然后将这个函数依次作用在可迭代对象的每个元素上，最后返回一个新的可迭代对象。"
   ]
  },
  {
   "cell_type": "code",
   "execution_count": 29,
   "metadata": {},
   "outputs": [
    {
     "name": "stdout",
     "output_type": "stream",
     "text": [
      "[2, 4, 6, 8]\n"
     ]
    }
   ],
   "source": [
    "nums = (1, 2, 3, 4)\n",
    "mapped = map(lambda x: x+x, nums)\n",
    "print(list(mapped))"
   ]
  },
  {
   "cell_type": "code",
   "execution_count": 30,
   "metadata": {},
   "outputs": [
    {
     "name": "stdout",
     "output_type": "stream",
     "text": [
      "[3, 7, 11]\n"
     ]
    }
   ],
   "source": [
    "odds = [1, 3, 5]\n",
    "evens = [2, 4, 6]\n",
    "mapped = map(lambda a,b:a+b, odds, evens)\n",
    "print(list(mapped))"
   ]
  },
  {
   "cell_type": "markdown",
   "metadata": {},
   "source": [
    "练习： 判断列表中函数是否包含`anonymous`字符串, 如果包含，返回`(True,s)`，否则返回`(False,s)`. 其中`s`是列表中的字符串。"
   ]
  },
  {
   "cell_type": "code",
   "execution_count": 32,
   "metadata": {},
   "outputs": [],
   "source": [
    "txt = ['lambda functions are anonymous functions.',\n",
    "    'anonymous functions dont have a name.',\n",
    "    'functions are objects in Python.']"
   ]
  },
  {
   "cell_type": "code",
   "execution_count": 35,
   "metadata": {},
   "outputs": [
    {
     "name": "stdout",
     "output_type": "stream",
     "text": [
      "False\n"
     ]
    }
   ],
   "source": [
    "print('anonymous' in txt[2])"
   ]
  },
  {
   "cell_type": "code",
   "execution_count": 37,
   "metadata": {},
   "outputs": [
    {
     "data": {
      "text/plain": [
       "[(True, 'lambda functions are anonymous functions.'),\n",
       " (True, 'anonymous functions dont have a name.'),\n",
       " (False, 'functions are objects in Python.')]"
      ]
     },
     "execution_count": 37,
     "metadata": {},
     "output_type": "execute_result"
    }
   ],
   "source": [
    "mapped = map(lambda s:('anonymous' in s, s), txt)\n",
    "list(mapped)"
   ]
  },
  {
   "cell_type": "markdown",
   "metadata": {},
   "source": [
    "max, min函数的key参数，可以 接收一个函数作为参数，这个函数的返回值将作为排序的依据。"
   ]
  },
  {
   "cell_type": "code",
   "execution_count": 1,
   "metadata": {},
   "outputs": [
    {
     "name": "stdout",
     "output_type": "stream",
     "text": [
      "(422, 88)\n",
      "(130, 78)\n"
     ]
    }
   ],
   "source": [
    "# 找出总分最高的和总分最低的\n",
    "scores = [(201, 85), (302, 92), (130, 78), (422, 88)]\n",
    "\n",
    "# Sorting the list of tuples by the second element\n",
    "highest_score = max(scores, key=lambda s: sum(s))\n",
    "lowest_score = min(scores, key=lambda s: sum(s))\n",
    "\n",
    "print(highest_score)\n",
    "print(lowest_score)"
   ]
  },
  {
   "cell_type": "markdown",
   "metadata": {},
   "source": [
    "filter函数的范例"
   ]
  },
  {
   "cell_type": "code",
   "execution_count": 4,
   "metadata": {},
   "outputs": [
    {
     "name": "stdout",
     "output_type": "stream",
     "text": [
      "['apple', 'banana', 'cat', 'elephant']\n"
     ]
    }
   ],
   "source": [
    "# 列表中长度大于3的字符串\n",
    "def filter_long_strings(string):\n",
    "    return len(string) >= 3\n",
    "\n",
    "words = [\"apple\", \"banana\", \"be\", \"a\", \"cat\", \"to\", \"elephant\"]\n",
    "\n",
    "long_words = list(filter(filter_long_strings, words))\n",
    "print(long_words)"
   ]
  },
  {
   "cell_type": "code",
   "execution_count": 7,
   "metadata": {},
   "outputs": [
    {
     "name": "stdout",
     "output_type": "stream",
     "text": [
      "<filter object at 0x00000296252E0340>\n",
      "['a', 'e']\n",
      "[]\n"
     ]
    }
   ],
   "source": [
    "# 从字符串中筛选出元音字母\n",
    "word = \"apple\"\n",
    "\n",
    "def vowel(c):\n",
    "    return c.lower() in 'aeiou'\n",
    "\n",
    "filtered = filter(vowel, word)\n",
    "print(filtered)\n",
    "print(list(filtered))\n",
    "print(list(filtered))"
   ]
  },
  {
   "cell_type": "markdown",
   "metadata": {},
   "source": [
    "## functools模块"
   ]
  },
  {
   "cell_type": "markdown",
   "metadata": {},
   "source": [
    "partial(func, *args, **kwargs)：创建一个带有预设参数的新函数。"
   ]
  },
  {
   "cell_type": "code",
   "execution_count": 79,
   "metadata": {},
   "outputs": [
    {
     "name": "stdout",
     "output_type": "stream",
     "text": [
      "0.4\n"
     ]
    }
   ],
   "source": [
    "from functools import partial\n",
    "\n",
    "def divide(x, y):\n",
    "    return x / y\n",
    "\n",
    "# Create a new function, first argument is 2\n",
    "two_divide = partial(divide, 2)\n",
    "print(two_divide(5))  # Output: 0.4"
   ]
  },
  {
   "cell_type": "markdown",
   "metadata": {},
   "source": [
    "lru_cache(maxsize=None)：用于函数结果的记忆/缓存的装饰器。它会缓存最近的函数调用及其结果。"
   ]
  },
  {
   "cell_type": "code",
   "execution_count": 101,
   "metadata": {},
   "outputs": [
    {
     "name": "stdout",
     "output_type": "stream",
     "text": [
      "20.4 ms ± 877 µs per loop (mean ± std. dev. of 7 runs, 10 loops each)\n"
     ]
    }
   ],
   "source": [
    "def fibonacci(n):\n",
    "    if n < 2:\n",
    "        return n\n",
    "    return fibonacci(n-1) + fibonacci(n-2)\n",
    "\n",
    "# 统计运行时间\n",
    "%timeit fibonacci(25)"
   ]
  },
  {
   "cell_type": "code",
   "execution_count": 102,
   "metadata": {},
   "outputs": [
    {
     "name": "stdout",
     "output_type": "stream",
     "text": [
      "5\n",
      "CacheInfo(hits=3, misses=6, maxsize=3, currsize=3)\n",
      "53.3 ns ± 0.275 ns per loop (mean ± std. dev. of 7 runs, 10,000,000 loops each)\n"
     ]
    }
   ],
   "source": [
    "from functools import lru_cache\n",
    "\n",
    "@lru_cache(maxsize=3)\n",
    "def fibonacci(n):\n",
    "    if n < 2:\n",
    "        return n\n",
    "    return fibonacci(n-1) + fibonacci(n-2)\n",
    "\n",
    "print(fibonacci(5))  # Output: 5\n",
    "print(fibonacci.cache_info())  # Output: CacheInfo(hits=4, misses=6, maxsize=3, currsize=3)\n",
    "\n",
    "%timeit fibonacci(25)"
   ]
  },
  {
   "cell_type": "code",
   "execution_count": 96,
   "metadata": {},
   "outputs": [
    {
     "name": "stdout",
     "output_type": "stream",
     "text": [
      "55.4 ns ± 2.22 ns per loop (mean ± std. dev. of 7 runs, 10,000,000 loops each)\n"
     ]
    }
   ],
   "source": [
    "%timeit fibonacci(25)"
   ]
  },
  {
   "cell_type": "markdown",
   "metadata": {},
   "source": []
  },
  {
   "cell_type": "code",
   "execution_count": null,
   "metadata": {},
   "outputs": [],
   "source": []
  }
 ],
 "metadata": {
  "kernelspec": {
   "display_name": "Python 3",
   "language": "python",
   "name": "python3"
  },
  "language_info": {
   "codemirror_mode": {
    "name": "ipython",
    "version": 3
   },
   "file_extension": ".py",
   "mimetype": "text/x-python",
   "name": "python",
   "nbconvert_exporter": "python",
   "pygments_lexer": "ipython3",
   "version": "3.10.6"
  },
  "orig_nbformat": 4
 },
 "nbformat": 4,
 "nbformat_minor": 2
}
