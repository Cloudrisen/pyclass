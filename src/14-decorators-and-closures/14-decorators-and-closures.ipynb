{
 "cells": [
  {
   "cell_type": "markdown",
   "metadata": {},
   "source": [
    "# 14-装饰器与闭包（Decorators and Closures）"
   ]
  },
  {
   "cell_type": "markdown",
   "metadata": {},
   "source": [
    "大纲：\n",
    "\n",
    "- 装饰器的基础知识\n",
    "- Python何时执行装饰器\n",
    "- 注册装饰器\n",
    "- 变量作用域规则\n",
    "- 闭包\n",
    "- nonlocal声明\n",
    "- 实现一个简单的装饰器\n",
    "- 习题 "
   ]
  },
  {
   "cell_type": "markdown",
   "metadata": {},
   "source": [
    "## 装饰器的基础知识"
   ]
  },
  {
   "cell_type": "markdown",
   "metadata": {},
   "source": [
    "装饰器是一个可调用的对象，其参数是另一个函数（被装饰的函数）。装饰器可能会处理被装饰的函数，然后将其返回，或者将其替换为另一个函数或可调用对象。"
   ]
  },
  {
   "cell_type": "code",
   "execution_count": 6,
   "metadata": {},
   "outputs": [],
   "source": [
    "# 定义一个装饰器\n",
    "def deco(func):\n",
    "    def inner():\n",
    "        print('running inner()')\n",
    "        \n",
    "    # 使用内部函数替换被装饰的函数\n",
    "    return inner"
   ]
  },
  {
   "cell_type": "code",
   "execution_count": 5,
   "metadata": {},
   "outputs": [
    {
     "name": "stdout",
     "output_type": "stream",
     "text": [
      "running inner()\n"
     ]
    }
   ],
   "source": [
    "# 使用装饰器装饰另一个函数\n",
    "@deco\n",
    "def target():\n",
    "    print('running target')\n",
    "target()"
   ]
  },
  {
   "cell_type": "code",
   "execution_count": 4,
   "metadata": {},
   "outputs": [
    {
     "name": "stdout",
     "output_type": "stream",
     "text": [
      "running inner()\n"
     ]
    }
   ],
   "source": [
    "# 上面的代码等价于下面\n",
    "def target():\n",
    "    print('running target')\n",
    "    \n",
    "target = deco(target)\n",
    "target()"
   ]
  },
  {
   "cell_type": "markdown",
   "metadata": {},
   "source": [
    "## Python何时执行装饰器"
   ]
  },
  {
   "cell_type": "markdown",
   "metadata": {},
   "source": [
    "装饰器的一个关键性质是，它们在被装饰的函数定义之后立即运行。这通常是在导入时（例如，当Python 加载模块时）"
   ]
  },
  {
   "cell_type": "code",
   "execution_count": 9,
   "metadata": {},
   "outputs": [
    {
     "name": "stdout",
     "output_type": "stream",
     "text": [
      "running register(<function f1 at 0x00000207AB132A20>)\n",
      "running register(<function f2 at 0x00000207AB132DE0>)\n",
      "running main()\n",
      "registry -> [<function f1 at 0x00000207AB132A20>, <function f2 at 0x00000207AB132DE0>]\n",
      "running f1()\n",
      "running f2()\n",
      "running f3()\n"
     ]
    }
   ],
   "source": [
    "# tag::REGISTRATION[]\n",
    "\n",
    "registry = []  # <1>\n",
    "\n",
    "def register(func):  # <2>\n",
    "    print(f'running register({func})')  # <3>\n",
    "    registry.append(func)  # <4>\n",
    "    return func  # <5>\n",
    "\n",
    "@register  # <6>\n",
    "def f1():\n",
    "    print('running f1()')\n",
    "\n",
    "@register\n",
    "def f2():\n",
    "    print('running f2()')\n",
    "\n",
    "def f3():  # <7>\n",
    "    print('running f3()')\n",
    "\n",
    "def main():  # <8>\n",
    "    print('running main()')\n",
    "    print('registry ->', registry)\n",
    "    f1()\n",
    "    f2()\n",
    "    f3()\n",
    "\n",
    "if __name__ == '__main__':\n",
    "    main()  # <9>\n",
    "\n",
    "# end::REGISTRATION[]"
   ]
  },
  {
   "cell_type": "markdown",
   "metadata": {},
   "source": [
    "1. registry列表用来存储被注册的函数\n",
    "2. register装饰器用来注册函数，参数是被注册的函数\n",
    "3. 打印被装饰的函数\n",
    "4. 将func存入registry列表\n",
    "5. 返回被装饰的函数\n",
    "6. 使用@register装饰器注册函数f1和f2\n",
    "7. 没有装饰f3\n",
    "8. main函数打印registry列表，然后调用f1、f2和f3\n",
    "9. 只有当前文件被执行时，才会调用main()函数"
   ]
  },
  {
   "cell_type": "markdown",
   "metadata": {},
   "source": [
    "## 注册装饰器"
   ]
  },
  {
   "cell_type": "markdown",
   "metadata": {},
   "source": [
    "考虑到装饰器在真实代码中的常用方式，示例有两处不寻常的地方。\n",
    "- 示例中装饰器函数与被装饰的函数在同一个模块中定义。实际情况是，装饰器通常在一个模块中定义，然后再应用到其他模块中的函数上。\n",
    "- register 装饰器返回的函数与通过参数传入的函数相同。实际上，大多数装饰器会在内部定义一个函数，然后将其返回。"
   ]
  },
  {
   "cell_type": "markdown",
   "metadata": {},
   "source": [
    "## 变量作用域规则"
   ]
  },
  {
   "cell_type": "code",
   "execution_count": null,
   "metadata": {},
   "outputs": [],
   "source": [
    "def f1(a):\n",
    "    print(a)\n",
    "    print(b)"
   ]
  },
  {
   "cell_type": "code",
   "execution_count": null,
   "metadata": {},
   "outputs": [],
   "source": [
    "# 定义全局变量b\n",
    "b = 6\n",
    "\n",
    "def f2(a):\n",
    "    # 打印局部变量a\n",
    "    print(a)\n",
    "    # 这里会发生什么？\n",
    "    print(b)\n",
    "    # 定义局部变量b\n",
    "    b=9    \n",
    "    \n",
    "f2(3)"
   ]
  },
  {
   "cell_type": "code",
   "execution_count": 2,
   "metadata": {},
   "outputs": [
    {
     "name": "stdout",
     "output_type": "stream",
     "text": [
      "3\n",
      "6\n",
      "9\n"
     ]
    }
   ],
   "source": [
    "# 定义全局变量b\n",
    "b = 6\n",
    "\n",
    "def f3(a):\n",
    "    # 打印局部变量a\n",
    "    print(a)\n",
    "    \n",
    "    global b\n",
    "    print(b)\n",
    "    # 给全局变量赋值\n",
    "    b=9    \n",
    "    \n",
    "f3(3)\n",
    "# 打印全局变量b\n",
    "print(b)"
   ]
  },
  {
   "cell_type": "code",
   "execution_count": 3,
   "metadata": {},
   "outputs": [
    {
     "name": "stdout",
     "output_type": "stream",
     "text": [
      "  2           0 LOAD_GLOBAL              0 (print)\n",
      "              2 LOAD_FAST                0 (a)\n",
      "              4 CALL_FUNCTION            1\n",
      "              6 POP_TOP\n",
      "\n",
      "  3           8 LOAD_GLOBAL              0 (print)\n",
      "             10 LOAD_GLOBAL              1 (b)\n",
      "             12 CALL_FUNCTION            1\n",
      "             14 POP_TOP\n",
      "             16 LOAD_CONST               0 (None)\n",
      "             18 RETURN_VALUE\n"
     ]
    }
   ],
   "source": [
    "# dis模块可以反汇编python函数得到字节码\n",
    "def f1(a):\n",
    "    print(a)\n",
    "    print(b)\n",
    "    \n",
    "from dis import dis\n",
    "dis(f1)"
   ]
  },
  {
   "cell_type": "code",
   "execution_count": 4,
   "metadata": {},
   "outputs": [
    {
     "name": "stdout",
     "output_type": "stream",
     "text": [
      "  6           0 LOAD_GLOBAL              0 (print)\n",
      "              2 LOAD_FAST                0 (a)\n",
      "              4 CALL_FUNCTION            1\n",
      "              6 POP_TOP\n",
      "\n",
      "  8           8 LOAD_GLOBAL              0 (print)\n",
      "             10 LOAD_FAST                1 (b)\n",
      "             12 CALL_FUNCTION            1\n",
      "             14 POP_TOP\n",
      "\n",
      " 10          16 LOAD_CONST               1 (9)\n",
      "             18 STORE_FAST               1 (b)\n",
      "             20 LOAD_CONST               0 (None)\n",
      "             22 RETURN_VALUE\n"
     ]
    }
   ],
   "source": [
    "# 定义全局变量b\n",
    "b = 6\n",
    "\n",
    "def f2(a):\n",
    "    # 打印局部变量a\n",
    "    print(a)\n",
    "    # 这里会发生什么？\n",
    "    print(b)\n",
    "    # 定义局部变量b\n",
    "    b=9   \n",
    "    \n",
    "from dis import dis\n",
    "dis(f2)"
   ]
  },
  {
   "cell_type": "markdown",
   "metadata": {},
   "source": [
    "## 闭包"
   ]
  },
  {
   "cell_type": "code",
   "execution_count": 5,
   "metadata": {},
   "outputs": [
    {
     "name": "stdout",
     "output_type": "stream",
     "text": [
      "10.0\n",
      "10.5\n",
      "11.0\n"
     ]
    }
   ],
   "source": [
    "# 一个计算累加值的类\n",
    "class Averager:\n",
    "\n",
    "    def __init__(self):\n",
    "        self.series = []\n",
    "\n",
    "    def __call__(self, new_value):\n",
    "        self.series.append(new_value)\n",
    "        total = sum(self.series)\n",
    "        return total/len(self.series)\n",
    "    \n",
    "avg = Averager()\n",
    "\n",
    "print(avg(10))\n",
    "print(avg(11))\n",
    "print(avg(12))"
   ]
  },
  {
   "cell_type": "code",
   "execution_count": 6,
   "metadata": {},
   "outputs": [
    {
     "name": "stdout",
     "output_type": "stream",
     "text": [
      "10.0\n",
      "10.5\n",
      "11.0\n"
     ]
    }
   ],
   "source": [
    "# 计算累加值的函数式实现\n",
    "\n",
    "def make_averager():\n",
    "    series = []\n",
    "    \n",
    "    def averager(new_value):\n",
    "        # series = [1, 2, 3]\n",
    "        series.append(new_value)\n",
    "        total = sum(series)\n",
    "        return total / len(series)\n",
    "\n",
    "    return averager\n",
    "\n",
    "avg2 = make_averager()\n",
    "print(avg2(10))\n",
    "print(avg2(11))\n",
    "print(avg2(12))"
   ]
  },
  {
   "cell_type": "markdown",
   "metadata": {},
   "source": [
    "![closure](./img/2024-05-06-11-30-33.png)"
   ]
  },
  {
   "cell_type": "code",
   "execution_count": 8,
   "metadata": {},
   "outputs": [
    {
     "data": {
      "text/plain": [
       "('new_value', 'total')"
      ]
     },
     "execution_count": 8,
     "metadata": {},
     "output_type": "execute_result"
    }
   ],
   "source": [
    "# 查看局部变量\n",
    "avg2.__code__.co_varnames"
   ]
  },
  {
   "cell_type": "code",
   "execution_count": 10,
   "metadata": {},
   "outputs": [
    {
     "data": {
      "text/plain": [
       "('series',)"
      ]
     },
     "execution_count": 10,
     "metadata": {},
     "output_type": "execute_result"
    }
   ],
   "source": [
    "# 查看自由变量\n",
    "avg2.__code__.co_freevars"
   ]
  },
  {
   "cell_type": "code",
   "execution_count": 13,
   "metadata": {},
   "outputs": [
    {
     "name": "stdout",
     "output_type": "stream",
     "text": [
      "(<cell at 0x000002A70D6EDA50: list object at 0x000002A70DA34EC0>,)\n",
      "[10, 11, 12]\n"
     ]
    }
   ],
   "source": [
    "# 查看闭包对象\n",
    "print(avg2.__closure__)\n",
    "\n",
    "# 查看闭包对象保存的数据\n",
    "print(avg2.__closure__[0].cell_contents)"
   ]
  },
  {
   "cell_type": "markdown",
   "metadata": {},
   "source": [
    "## nonlocal声明"
   ]
  },
  {
   "cell_type": "markdown",
   "metadata": {},
   "source": [
    "前面实现 make_averager 函数的方法效率不高。在示例 9-8 中，我们把所有值存储在历史数列中，然后在每次调用 averager 时使用 sum 求和。更好的实现方式是，只存储目前的总值和项数，根据这两个数计算平均值。"
   ]
  },
  {
   "cell_type": "code",
   "execution_count": null,
   "metadata": {},
   "outputs": [],
   "source": [
    "def make_averager2():\n",
    "    count = 0\n",
    "    total = 0\n",
    "    def averager(new_value):\n",
    "        # 因为对counter赋值，counter被当作局部变量\n",
    "        count += 1\n",
    "        total += new_value\n",
    "        return total / count\n",
    "    return averager\n",
    "\n",
    "avg3 = make_averager2()\n",
    "avg3(10)"
   ]
  },
  {
   "cell_type": "code",
   "execution_count": 18,
   "metadata": {},
   "outputs": [
    {
     "data": {
      "text/plain": [
       "10.0"
      ]
     },
     "execution_count": 18,
     "metadata": {},
     "output_type": "execute_result"
    }
   ],
   "source": [
    "def make_averager3():\n",
    "    count = 0\n",
    "    total = 0\n",
    "    def averager(new_value):\n",
    "        # nonlocal把变量标记为自由变量\n",
    "        nonlocal count, total        \n",
    "        count += 1\n",
    "        total += new_value\n",
    "        return total / count\n",
    "    return averager\n",
    "\n",
    "avg4 = make_averager3()\n",
    "avg4(10)"
   ]
  },
  {
   "cell_type": "markdown",
   "metadata": {},
   "source": [
    "变量查找逻辑：\n",
    "\n",
    "- 如果是 global x 声明，则 x 来自模块全局作用域，并赋予那个作用域中 x 的值。 \n",
    "- 如果是 nonlocal x 声明，则 x 来自最近一个定义它的外层函数，并赋予那个函数中局部变量 x 的值。\n",
    "- 如果 x 是参数，或者在函数主体中赋了值，那么 x 就是局部变量。\n",
    "- 如果引用了 x，但是没有赋值也不是参数，则遵循以下规则。\n",
    "  - 在外层函数主体的局部作用域（非局部作用域）内查找 x。\n",
    "  - 如果在外层作用域内未找到，则从模块全局作用域内读取。\n",
    "  - 如果在模块全局作用域内未找到，则从 __builtins__.__dict__ 中读取。"
   ]
  },
  {
   "cell_type": "markdown",
   "metadata": {},
   "source": [
    "## 实现一个简单的装饰器"
   ]
  },
  {
   "cell_type": "markdown",
   "metadata": {},
   "source": [
    "一个会显示函数运行时间的简单的装饰器"
   ]
  },
  {
   "cell_type": "code",
   "execution_count": null,
   "metadata": {},
   "outputs": [],
   "source": [
    "import time\n",
    "\n",
    "def clock(func):\n",
    "    def clocked(*args):  # <1>\n",
    "        t0 = time.perf_counter()\n",
    "        result = func(*args)  # <2>\n",
    "        elapsed = time.perf_counter() - t0\n",
    "        name = func.__name__\n",
    "        arg_str = ', '.join(repr(arg) for arg in args)\n",
    "        print(f'[{elapsed:0.8f}s] {name}({arg_str}) -> {result!r}')\n",
    "        return result\n",
    "    return clocked  # <3>"
   ]
  },
  {
   "cell_type": "markdown",
   "metadata": {},
   "source": []
  },
  {
   "cell_type": "code",
   "execution_count": null,
   "metadata": {},
   "outputs": [],
   "source": []
  },
  {
   "cell_type": "markdown",
   "metadata": {},
   "source": [
    "## 缩短数值的过滤器(Number Shortening Filter)"
   ]
  },
  {
   "cell_type": "markdown",
   "metadata": {},
   "source": [
    "难度：6kyu\n",
    "\n",
    "在这个kata中，我们将创建一个函数，它返回另一个缩短长数字的函数。给定一个初始值数组替换给定基数的 X 次方。如果返回函数的输入不是数字字符串，则应将输入本身作为字符串返回。\n",
    "\n",
    "例子：\n",
    "\n",
    "```python\n",
    "# shorten_number接受的输入是一个后缀列表，和一个基数，返回一个函数\n",
    "filter1 = shorten_number(['','k','m'],1000)\n",
    "\n",
    "# filter是一个函数，它接受一个数字字符串并返回一个数字字符串\n",
    "filter1('234324') == '234k'\n",
    "filter1('98234324') == '98m'\n",
    "filter1([1,2,3]) == '[1,2,3]'\n",
    "\n",
    "filter2 = shorten_number(['B','KB','MB','GB'],1024)\n",
    "filter2('32') == '32B'\n",
    "filter2('2100') == '2KB'\n",
    "filter2('pippi') == 'pippi'\n",
    "```\n",
    "\n",
    "代码提交地址：\n",
    "<https://www.codewars.com/kata/56b4af8ac6167012ec00006f>"
   ]
  },
  {
   "cell_type": "markdown",
   "metadata": {},
   "source": [
    "按照下面的模式来编写自己的高阶函数：\n",
    "\n",
    "- 定义一个外部的函数\n",
    "- 在外部函数内部定义一个内部的函数\n",
    "- 外部函数最后返回内部定义的函数"
   ]
  },
  {
   "cell_type": "code",
   "execution_count": 1,
   "metadata": {},
   "outputs": [
    {
     "name": "stdout",
     "output_type": "stream",
     "text": [
      "['', 'k', 'm']\n",
      "1000\n"
     ]
    },
    {
     "data": {
      "text/plain": [
       "'234234'"
      ]
     },
     "execution_count": 1,
     "metadata": {},
     "output_type": "execute_result"
    }
   ],
   "source": [
    "# 定义的外部函数\n",
    "def shorten_number(suffixes, base):\n",
    "    \n",
    "    # 定义一个内部函数\n",
    "    def my_filter(number):\n",
    "        print(suffixes)\n",
    "        print(base)\n",
    "        # 在函数内部可以使用外部的变量suffixes，base\n",
    "        return number     \n",
    "\n",
    "    # 返回值是一个函数\n",
    "    return my_filter\n",
    "\n",
    "my_fun = shorten_number(['','k','m'],1000)\n",
    "my_fun('234234')"
   ]
  },
  {
   "cell_type": "code",
   "execution_count": 2,
   "metadata": {},
   "outputs": [
    {
     "name": "stdout",
     "output_type": "stream",
     "text": [
      "234k\n",
      "98m\n",
      "[1, 2, 3]\n",
      "32B\n",
      "2KB\n",
      "1909938873TB\n",
      "pippi\n"
     ]
    }
   ],
   "source": [
    "def shorten_number(suffixes, base):\n",
    "    \n",
    "    # 定义一个函数\n",
    "    def my_filter(data):\n",
    "        try:\n",
    "            # 将函数输入转换为整数\n",
    "            number = int(data)\n",
    "            \n",
    "        # 如果输入的数据不能转换为整数，直接转换为str返回\n",
    "        except (TypeError, ValueError):\n",
    "            return str(data)\n",
    "        \n",
    "        # 输入的number可以转换为整数\n",
    "        else:\n",
    "            # i用来跟踪suffixes列表的索引\n",
    "            i = 0\n",
    "            \n",
    "            # 每次循环将输入的数字除以base，索引i+1\n",
    "            # 如果除以base等于0或者索引等于len(suffixes)-1，结束循环\n",
    "            while number//base > 0 and i < len(suffixes)-1:\n",
    "                number //= base\n",
    "                i += 1\n",
    "            return str(number) + suffixes[i]     \n",
    "\n",
    "    # 返回值是一个函数\n",
    "    return my_filter\n",
    "\n",
    "filter1 = shorten_number(['','k','m'],1000)\n",
    "print(filter1('234324'))  # == '234k'\n",
    "print(filter1('98234324')) # == '98m'\n",
    "print(filter1([1,2,3])) # == '[1,2,3]'\n",
    "\n",
    "filter2 = shorten_number(['B','KB','MB','GB', 'TB'],1024)\n",
    "print(filter2('32')) # == '32B'\n",
    "print(filter2('2100'))  # == '2KB';\n",
    "print(filter2('2100000000000000000000'))  # == '2KB';\n",
    "print(filter2('pippi')) # == 'pippi'"
   ]
  }
 ],
 "metadata": {
  "kernelspec": {
   "display_name": "Python 3",
   "language": "python",
   "name": "python3"
  },
  "language_info": {
   "codemirror_mode": {
    "name": "ipython",
    "version": 3
   },
   "file_extension": ".py",
   "mimetype": "text/x-python",
   "name": "python",
   "nbconvert_exporter": "python",
   "pygments_lexer": "ipython3",
   "version": "3.10.6"
  }
 },
 "nbformat": 4,
 "nbformat_minor": 2
}
