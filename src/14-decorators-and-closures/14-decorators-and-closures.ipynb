{
 "cells": [
  {
   "cell_type": "markdown",
   "metadata": {},
   "source": [
    "# 14-装饰器与闭包（Decorators and Closures）"
   ]
  },
  {
   "cell_type": "code",
   "execution_count": null,
   "metadata": {},
   "outputs": [],
   "source": []
  },
  {
   "cell_type": "markdown",
   "metadata": {},
   "source": [
    "## 缩短数值的过滤器(Number Shortening Filter)"
   ]
  },
  {
   "cell_type": "markdown",
   "metadata": {},
   "source": [
    "难度：6kyu\n",
    "\n",
    "在这个kata中，我们将创建一个函数，它返回另一个缩短长数字的函数。给定一个初始值数组替换给定基数的 X 次方。如果返回函数的输入不是数字字符串，则应将输入本身作为字符串返回。\n",
    "\n",
    "例子：\n",
    "\n",
    "```python\n",
    "# shorten_number接受的输入是一个后缀列表，和一个基数，返回一个函数\n",
    "filter1 = shorten_number(['','k','m'],1000)\n",
    "\n",
    "# filter是一个函数，它接受一个数字字符串并返回一个数字字符串\n",
    "filter1('234324') == '234k'\n",
    "filter1('98234324') == '98m'\n",
    "filter1([1,2,3]) == '[1,2,3]'\n",
    "\n",
    "filter2 = shorten_number(['B','KB','MB','GB'],1024)\n",
    "filter2('32') == '32B'\n",
    "filter2('2100') == '2KB'\n",
    "filter2('pippi') == 'pippi'\n",
    "```\n",
    "\n",
    "代码提交地址：\n",
    "<https://www.codewars.com/kata/56b4af8ac6167012ec00006f>"
   ]
  },
  {
   "cell_type": "markdown",
   "metadata": {},
   "source": [
    "按照下面的模式来编写自己的高阶函数：\n",
    "\n",
    "- 定义一个外部的函数\n",
    "- 在外部函数内部定义一个内部的函数\n",
    "- 外部函数最后返回内部定义的函数"
   ]
  },
  {
   "cell_type": "code",
   "execution_count": 1,
   "metadata": {},
   "outputs": [
    {
     "name": "stdout",
     "output_type": "stream",
     "text": [
      "['', 'k', 'm']\n",
      "1000\n"
     ]
    },
    {
     "data": {
      "text/plain": [
       "'234234'"
      ]
     },
     "execution_count": 1,
     "metadata": {},
     "output_type": "execute_result"
    }
   ],
   "source": [
    "# 定义的外部函数\n",
    "def shorten_number(suffixes, base):\n",
    "    \n",
    "    # 定义一个内部函数\n",
    "    def my_filter(number):\n",
    "        print(suffixes)\n",
    "        print(base)\n",
    "        # 在函数内部可以使用外部的变量suffixes，base\n",
    "        return number     \n",
    "\n",
    "    # 返回值是一个函数\n",
    "    return my_filter\n",
    "\n",
    "my_fun = shorten_number(['','k','m'],1000)\n",
    "my_fun('234234')"
   ]
  },
  {
   "cell_type": "code",
   "execution_count": 2,
   "metadata": {},
   "outputs": [
    {
     "name": "stdout",
     "output_type": "stream",
     "text": [
      "234k\n",
      "98m\n",
      "[1, 2, 3]\n",
      "32B\n",
      "2KB\n",
      "1909938873TB\n",
      "pippi\n"
     ]
    }
   ],
   "source": [
    "def shorten_number(suffixes, base):\n",
    "    \n",
    "    # 定义一个函数\n",
    "    def my_filter(data):\n",
    "        try:\n",
    "            # 将函数输入转换为整数\n",
    "            number = int(data)\n",
    "            \n",
    "        # 如果输入的数据不能转换为整数，直接转换为str返回\n",
    "        except (TypeError, ValueError):\n",
    "            return str(data)\n",
    "        \n",
    "        # 输入的number可以转换为整数\n",
    "        else:\n",
    "            # i用来跟踪suffixes列表的索引\n",
    "            i = 0\n",
    "            \n",
    "            # 每次循环将输入的数字除以base，索引i+1\n",
    "            # 如果除以base等于0或者索引等于len(suffixes)-1，结束循环\n",
    "            while number//base > 0 and i < len(suffixes)-1:\n",
    "                number //= base\n",
    "                i += 1\n",
    "            return str(number) + suffixes[i]     \n",
    "\n",
    "    # 返回值是一个函数\n",
    "    return my_filter\n",
    "\n",
    "filter1 = shorten_number(['','k','m'],1000)\n",
    "print(filter1('234324'))  # == '234k'\n",
    "print(filter1('98234324')) # == '98m'\n",
    "print(filter1([1,2,3])) # == '[1,2,3]'\n",
    "\n",
    "filter2 = shorten_number(['B','KB','MB','GB', 'TB'],1024)\n",
    "print(filter2('32')) # == '32B'\n",
    "print(filter2('2100'))  # == '2KB';\n",
    "print(filter2('2100000000000000000000'))  # == '2KB';\n",
    "print(filter2('pippi')) # == 'pippi'"
   ]
  }
 ],
 "metadata": {
  "kernelspec": {
   "display_name": "Python 3",
   "language": "python",
   "name": "python3"
  },
  "language_info": {
   "codemirror_mode": {
    "name": "ipython",
    "version": 3
   },
   "file_extension": ".py",
   "mimetype": "text/x-python",
   "name": "python",
   "nbconvert_exporter": "python",
   "pygments_lexer": "ipython3",
   "version": "3.10.6"
  }
 },
 "nbformat": 4,
 "nbformat_minor": 2
}
