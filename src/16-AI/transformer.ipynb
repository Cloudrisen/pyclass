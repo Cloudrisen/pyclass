{
 "cells": [
  {
   "cell_type": "markdown",
   "metadata": {},
   "source": [
    "# Transformer"
   ]
  },
  {
   "cell_type": "markdown",
   "metadata": {},
   "source": []
  },
  {
   "cell_type": "code",
   "execution_count": null,
   "metadata": {},
   "outputs": [],
   "source": []
  },
  {
   "cell_type": "markdown",
   "metadata": {},
   "source": [
    "## Embeddings -- 将单词表示为向量"
   ]
  },
  {
   "cell_type": "code",
   "execution_count": null,
   "metadata": {},
   "outputs": [],
   "source": [
    "# install gensim\n",
    "%pip install gensim"
   ]
  },
  {
   "cell_type": "code",
   "execution_count": 6,
   "metadata": {},
   "outputs": [],
   "source": [
    "import gensim.downloader\n",
    "model2 = gensim.downloader.load('glove-wiki-gigaword-50')"
   ]
  },
  {
   "cell_type": "code",
   "execution_count": 2,
   "metadata": {},
   "outputs": [],
   "source": [
    "# 该模型中的每个向量100个维度\n",
    "import gensim.downloader\n",
    "model = gensim.downloader.load('glove-wiki-gigaword-100')"
   ]
  },
  {
   "cell_type": "code",
   "execution_count": 4,
   "metadata": {},
   "outputs": [
    {
     "data": {
      "text/plain": [
       "400000"
      ]
     },
     "execution_count": 4,
     "metadata": {},
     "output_type": "execute_result"
    }
   ],
   "source": [
    "# 返回该模型包括的词汇量\n",
    "len(model)"
   ]
  },
  {
   "cell_type": "code",
   "execution_count": 3,
   "metadata": {},
   "outputs": [
    {
     "data": {
      "text/plain": [
       "array([-0.18173 ,  0.49759 ,  0.46326 ,  0.22507 ,  0.46379 ,  0.70062 ,\n",
       "       -0.55155 ,  0.79148 , -0.18582 ,  0.19755 ,  0.19881 ,  0.09037 ,\n",
       "        0.02684 ,  0.036921,  0.25217 ,  0.30879 ,  0.33164 ,  0.2714  ,\n",
       "       -0.12808 ,  1.1721  , -0.072969,  0.34904 ,  0.11161 , -0.36056 ,\n",
       "        0.59628 ,  0.42417 , -0.69904 , -0.19768 , -0.35599 , -0.23141 ,\n",
       "       -0.38503 , -0.12665 ,  0.77121 , -0.37397 ,  0.59642 , -0.24416 ,\n",
       "       -0.25387 , -0.065911,  0.21035 , -0.83429 ,  0.28604 , -0.022707,\n",
       "        0.06746 ,  0.088804,  0.23424 ,  0.20475 ,  0.085396,  0.55393 ,\n",
       "        0.34153 , -0.095455, -0.19291 , -0.55262 ,  1.0229  ,  0.3866  ,\n",
       "       -0.24254 , -2.3519  ,  0.43561 ,  1.1172  ,  0.77358 , -0.73769 ,\n",
       "       -0.35302 ,  1.6699  , -0.63955 , -0.39244 ,  0.56454 , -0.27873 ,\n",
       "        0.9252  , -0.13997 , -0.096213, -1.1242  ,  0.49031 ,  0.36918 ,\n",
       "        0.41195 , -0.038159,  0.84123 ,  0.24619 ,  0.081767,  0.07483 ,\n",
       "        0.44646 , -0.19423 ,  0.013369,  0.37712 ,  0.23276 ,  0.25728 ,\n",
       "       -0.85934 , -0.36652 , -0.060819, -0.4635  , -0.21186 , -0.50654 ,\n",
       "        0.33397 , -0.24091 ,  0.5626  , -0.0414  , -1.0032  ,  0.1337  ,\n",
       "       -1.8932  , -0.81877 , -0.44116 ,  0.51389 ], dtype=float32)"
      ]
     },
     "execution_count": 3,
     "metadata": {},
     "output_type": "execute_result"
    }
   ],
   "source": [
    "# 'glove-wiki-gigaword-100'模型每个单词的向量长度为100\n",
    "\n",
    "model['beautiful']"
   ]
  },
  {
   "cell_type": "markdown",
   "metadata": {},
   "source": [
    "- 向量的维度表达了单词的语义信息\n",
    "- 但是这些维度的语义信息都是模糊的，没有准确定义的\n",
    "- 将单词转换为向量后，可以进行向量的运算，可以寻找：\n",
    "  - 最接近的词\n",
    "  - 最不接近的词"
   ]
  },
  {
   "cell_type": "code",
   "execution_count": 6,
   "metadata": {},
   "outputs": [
    {
     "data": {
      "text/plain": [
       "[('dog', 0.8798074722290039),\n",
       " ('rabbit', 0.7424427270889282),\n",
       " ('cats', 0.732300341129303),\n",
       " ('monkey', 0.7288709878921509),\n",
       " ('pet', 0.719014048576355),\n",
       " ('dogs', 0.7163872718811035),\n",
       " ('mouse', 0.6915250420570374),\n",
       " ('puppy', 0.6800068020820618),\n",
       " ('rat', 0.6641027331352234),\n",
       " ('spider', 0.6501135230064392)]"
      ]
     },
     "execution_count": 6,
     "metadata": {},
     "output_type": "execute_result"
    }
   ],
   "source": [
    "# cat 的近义词\n",
    "\n",
    "import numpy as np\n",
    "model.most_similar('cat')"
   ]
  },
  {
   "cell_type": "code",
   "execution_count": 9,
   "metadata": {},
   "outputs": [
    {
     "data": {
      "text/plain": [
       "[('lrn', 0.52520751953125),\n",
       " ('blaskowitz', 0.5134143829345703),\n",
       " ('burlakov', 0.513351559638977),\n",
       " ('mosakeng', 0.5072264671325684),\n",
       " ('lhéritier', 0.5040180683135986),\n",
       " ('jalayirids', 0.5015791058540344),\n",
       " ('gabinius', 0.4990609884262085),\n",
       " ('kitbuqa', 0.49766597151756287),\n",
       " ('gaisf', 0.4953729808330536),\n",
       " ('malkawi', 0.4912565052509308)]"
      ]
     },
     "execution_count": 9,
     "metadata": {},
     "output_type": "execute_result"
    }
   ],
   "source": [
    "# cat 的最不相似的词\n",
    "model.most_similar(negative=['cat'])"
   ]
  },
  {
   "cell_type": "code",
   "execution_count": 10,
   "metadata": {},
   "outputs": [
    {
     "data": {
      "text/plain": [
       "[('queen', 0.7698540687561035),\n",
       " ('monarch', 0.6843381524085999),\n",
       " ('throne', 0.6755736470222473),\n",
       " ('daughter', 0.6594556570053101),\n",
       " ('princess', 0.6520534157752991),\n",
       " ('prince', 0.6517034769058228),\n",
       " ('elizabeth', 0.6464517712593079),\n",
       " ('mother', 0.631171703338623),\n",
       " ('emperor', 0.6106470823287964),\n",
       " ('wife', 0.6098655462265015)]"
      ]
     },
     "execution_count": 10,
     "metadata": {},
     "output_type": "execute_result"
    }
   ],
   "source": [
    "# woman + king - man ~= queen\n",
    "\n",
    "model.most_similar(positive=['woman', 'king'], negative=['man'])"
   ]
  },
  {
   "cell_type": "code",
   "execution_count": 15,
   "metadata": {},
   "outputs": [
    {
     "data": {
      "text/plain": [
       "[('enjoy', 0.4552291929721832),\n",
       " ('chance', 0.4535176753997803),\n",
       " ('ready', 0.45224252343177795),\n",
       " ('opportunity', 0.4434261918067932),\n",
       " ('excellent', 0.4415234923362732),\n",
       " ('free', 0.44127118587493896),\n",
       " ('maintain', 0.440281480550766),\n",
       " ('comfortable', 0.4352276027202606),\n",
       " ('healthy', 0.43348386883735657),\n",
       " ('better', 0.43163517117500305)]"
      ]
     },
     "execution_count": 15,
     "metadata": {},
     "output_type": "execute_result"
    }
   ],
   "source": [
    "# good + happy - bad - sad ~= ?\n",
    "\n",
    "model.most_similar(positive=['good', 'happy'], negative=['bad', 'sad'])"
   ]
  },
  {
   "cell_type": "markdown",
   "metadata": {},
   "source": [
    "Embeddings向量的局限性：\n",
    "\n",
    "- 每个单词通常会有多个不同的含义，都包含在了一个向量中\n",
    "- 缺乏上下文信息，无法区分不同的含义\n",
    "- 例如：\n",
    "  - `apple`，可能是水果，也可能是苹果公司\n",
    "  - `python`，可能是一种动物，也可能是一种编程语言"
   ]
  }
 ],
 "metadata": {
  "kernelspec": {
   "display_name": "Python 3",
   "language": "python",
   "name": "python3"
  },
  "language_info": {
   "codemirror_mode": {
    "name": "ipython",
    "version": 3
   },
   "file_extension": ".py",
   "mimetype": "text/x-python",
   "name": "python",
   "nbconvert_exporter": "python",
   "pygments_lexer": "ipython3",
   "version": "3.12.0"
  }
 },
 "nbformat": 4,
 "nbformat_minor": 2
}
