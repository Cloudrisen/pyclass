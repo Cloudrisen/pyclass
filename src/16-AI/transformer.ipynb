{
 "cells": [
  {
   "cell_type": "markdown",
   "metadata": {},
   "source": [
    "# Transformer"
   ]
  },
  {
   "cell_type": "code",
   "execution_count": null,
   "metadata": {},
   "outputs": [],
   "source": []
  },
  {
   "cell_type": "markdown",
   "metadata": {},
   "source": [
    "## Embeddings"
   ]
  },
  {
   "cell_type": "code",
   "execution_count": null,
   "metadata": {},
   "outputs": [],
   "source": [
    "# install gensim\n",
    "!pip install gensim"
   ]
  },
  {
   "cell_type": "code",
   "execution_count": 3,
   "metadata": {},
   "outputs": [
    {
     "name": "stdout",
     "output_type": "stream",
     "text": [
      "[==================================================] 100.0% 66.0/66.0MB downloaded\n"
     ]
    }
   ],
   "source": [
    "import gensim.downloader\n",
    "model = gensim.downloader.load('glove-wiki-gigaword-50')"
   ]
  },
  {
   "cell_type": "code",
   "execution_count": 4,
   "metadata": {},
   "outputs": [
    {
     "data": {
      "text/plain": [
       "[('dog', 0.9218006134033203),\n",
       " ('rabbit', 0.8487821221351624),\n",
       " ('monkey', 0.8041081428527832),\n",
       " ('rat', 0.7891963124275208),\n",
       " ('cats', 0.7865270972251892),\n",
       " ('snake', 0.7798910737037659),\n",
       " ('dogs', 0.7795814871788025),\n",
       " ('pet', 0.7792249917984009),\n",
       " ('mouse', 0.773166835308075),\n",
       " ('bite', 0.7728800177574158)]"
      ]
     },
     "execution_count": 4,
     "metadata": {},
     "output_type": "execute_result"
    }
   ],
   "source": [
    "model.most_similar('cat')"
   ]
  },
  {
   "cell_type": "code",
   "execution_count": 5,
   "metadata": {},
   "outputs": [
    {
     "data": {
      "text/plain": [
       "array([ 1.1474e+00,  1.1811e+00,  7.4556e-01, -5.9101e-02,  5.0499e-01,\n",
       "       -7.0449e-01, -3.2136e-01, -4.5390e-01, -4.5763e-01, -7.5341e-01,\n",
       "       -3.3511e-01, -2.4975e-02, -5.0192e-01,  6.3773e-01, -8.3059e-01,\n",
       "        8.3565e-01, -2.4701e-01,  3.2421e-01, -1.1103e+00, -2.1335e-02,\n",
       "        6.8717e-01, -3.9340e-01, -1.6390e+00, -5.0493e-01, -1.6684e-01,\n",
       "       -6.7649e-01, -3.1798e-01,  8.8503e-01, -3.1552e-02, -1.5608e-01,\n",
       "        1.9805e+00, -1.1870e+00,  8.3342e-01, -1.8369e-01, -2.6691e-01,\n",
       "        1.1619e-01,  1.1023e+00, -3.5937e-01,  2.5015e-02, -4.0615e-02,\n",
       "        3.0681e-01, -4.1076e-01,  8.4586e-02,  2.2475e-01, -5.0955e-01,\n",
       "        6.5819e-01, -1.2432e-01, -1.4039e+00,  1.6178e-04, -5.2529e-01],\n",
       "      dtype=float32)"
      ]
     },
     "execution_count": 5,
     "metadata": {},
     "output_type": "execute_result"
    }
   ],
   "source": [
    "model['tower']"
   ]
  },
  {
   "cell_type": "code",
   "execution_count": 8,
   "metadata": {},
   "outputs": [
    {
     "data": {
      "text/plain": [
       "array([-0.03882597,  0.91902995, -0.25976998, -0.04227899, -0.13896993,\n",
       "       -0.20638001, -0.02683   ,  0.03402004,  0.09974203, -0.08821002,\n",
       "       -0.00754401,  0.36110997, -0.320001  ,  0.6568099 , -0.63689005,\n",
       "       -0.33901998,  0.77140003,  0.59767103, -0.711054  , -0.44857   ,\n",
       "        0.08958   ,  0.01644993,  0.08847399,  0.17910999, -0.43223003,\n",
       "        0.28219986,  0.09410012,  0.95706   , -0.01775996, -0.32842597,\n",
       "       -0.11489999,  0.36365002,  0.52906   , -0.11805284,  0.10498999,\n",
       "        0.219787  ,  0.33020002,  0.137476  , -0.10705005, -0.92508006,\n",
       "        0.22391601, -0.7112199 ,  0.29157   , -0.24670503,  0.05374995,\n",
       "       -0.22742993,  0.09986004, -0.33875006,  0.69724536, -0.10499998],\n",
       "      dtype=float32)"
      ]
     },
     "execution_count": 8,
     "metadata": {},
     "output_type": "execute_result"
    }
   ],
   "source": [
    "model['man'] - model['woman'] + (model['queen'] - model['king'])"
   ]
  },
  {
   "cell_type": "code",
   "execution_count": 10,
   "metadata": {},
   "outputs": [
    {
     "data": {
      "text/plain": [
       "2.8391206"
      ]
     },
     "execution_count": 10,
     "metadata": {},
     "output_type": "execute_result"
    }
   ],
   "source": [
    "import numpy as np\n",
    "np.linalg.norm(model['man'] - model['woman'] + model['queen'] - model['king'])"
   ]
  },
  {
   "cell_type": "code",
   "execution_count": 13,
   "metadata": {},
   "outputs": [
    {
     "data": {
      "text/plain": [
       "array([ 0.48606402,  0.36482993, -0.02332005,  0.19448003, -0.50929993,\n",
       "       -0.21292996, -0.16007999, -0.38303   ,  0.32714   ,  0.3425043 ,\n",
       "       -0.48406   ,  0.39434004, -0.21782005, -0.04819003, -0.27192003,\n",
       "        0.14980298,  0.28113997, -0.165636  , -0.03161401,  0.12234002,\n",
       "       -0.08289802,  0.47800994,  0.501814  , -0.27878   ,  0.2600299 ,\n",
       "        0.41229987, -0.24184996,  1.0110301 ,  0.32979   , -0.60841995,\n",
       "       -0.11223996,  0.36037   ,  0.426646  ,  0.5224371 , -0.01406999,\n",
       "       -0.28839523, -0.06432001, -0.125442  ,  0.3485    , -0.28442   ,\n",
       "        0.08329701, -0.08606997,  0.29631   , -0.24434498, -0.10961005,\n",
       "        0.25910303,  0.10926002,  0.24684995,  0.43481803,  0.00340001],\n",
       "      dtype=float32)"
      ]
     },
     "execution_count": 13,
     "metadata": {},
     "output_type": "execute_result"
    }
   ],
   "source": [
    "result2 = model['man'] - model['woman'] + (model['aunt'] - model['uncle'])\n",
    "result2"
   ]
  },
  {
   "cell_type": "code",
   "execution_count": 18,
   "metadata": {},
   "outputs": [
    {
     "data": {
      "text/plain": [
       "2.352789"
      ]
     },
     "execution_count": 18,
     "metadata": {},
     "output_type": "execute_result"
    }
   ],
   "source": [
    "np.linalg.norm(result2, axis=0)"
   ]
  }
 ],
 "metadata": {
  "kernelspec": {
   "display_name": "Python 3",
   "language": "python",
   "name": "python3"
  },
  "language_info": {
   "codemirror_mode": {
    "name": "ipython",
    "version": 3
   },
   "file_extension": ".py",
   "mimetype": "text/x-python",
   "name": "python",
   "nbconvert_exporter": "python",
   "pygments_lexer": "ipython3",
   "version": "3.12.0"
  }
 },
 "nbformat": 4,
 "nbformat_minor": 2
}
