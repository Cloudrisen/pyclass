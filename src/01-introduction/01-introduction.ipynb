{
 "cells": [
  {
   "cell_type": "markdown",
   "metadata": {},
   "source": [
    "# 01- Python编程概述"
   ]
  },
  {
   "cell_type": "markdown",
   "metadata": {},
   "source": [
    "大纲：\n",
    "\n",
    "- 课程介绍\n",
    "- Python简介\n",
    "- 课程项目的介绍\n",
    "- Python的应用"
   ]
  },
  {
   "cell_type": "markdown",
   "metadata": {},
   "source": [
    "## 课程介绍"
   ]
  },
  {
   "cell_type": "markdown",
   "metadata": {},
   "source": []
  },
  {
   "cell_type": "markdown",
   "metadata": {},
   "source": [
    "## Python简介"
   ]
  },
  {
   "cell_type": "markdown",
   "metadata": {},
   "source": []
  },
  {
   "cell_type": "markdown",
   "metadata": {},
   "source": [
    "## 课程项目的介绍"
   ]
  },
  {
   "cell_type": "markdown",
   "metadata": {},
   "source": []
  },
  {
   "cell_type": "markdown",
   "metadata": {},
   "source": [
    "## Python的应用"
   ]
  },
  {
   "cell_type": "markdown",
   "metadata": {},
   "source": [
    "AI应用：\n",
    "- 深度学习框架： PyTorch, TensorFlow\n",
    "- TensorFlow Playground: 一个用于可视化神经网络的在线工具\n",
    "- 手写数字识别：MNIST\n",
    "- Transformers: 深度学习模型的架构\n",
    "- SAM2(Segment Anything2): 图像和视频的语义分割 \n",
    "- ComfyUI, StableDiffusion: 利用AI模型，文字生成图像\n",
    "- Gradio: 一个用于构建快速原型的Python库，用于构建机器学习和深度学习模型的交互式界面\n",
    "\n",
    "数据科学：\n",
    "-  网络爬虫：BeautifulSoup, Scrapy\n",
    "-  数据处理、数据分析： Numpy和Pandas\n",
    "-  科学计算：SciPy, SymPy, Numpy, Pandas\n",
    "-  数据可视化：Plotly, Dash, Streamlit  \n",
    "\n",
    "嵌入式开发：\n",
    "-  MicroPython\n",
    "\n",
    "Web以及服务端的开发：\n",
    "-  Web框架：Django, Flask\n",
    "-  \n",
    "\n",
    "命令行工具：\n",
    "- 创建简易的Web服务器: http.server\n",
    "- 下载流媒体: youtube-dl\n",
    "- 网络调试工具: mitmproxy"
   ]
  }
 ],
 "metadata": {
  "kernelspec": {
   "display_name": "Python 3",
   "language": "python",
   "name": "python3"
  },
  "language_info": {
   "name": "python",
   "version": "3.12.0"
  }
 },
 "nbformat": 4,
 "nbformat_minor": 2
}
