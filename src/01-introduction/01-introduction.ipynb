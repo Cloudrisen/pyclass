{
 "cells": [
  {
   "cell_type": "markdown",
   "metadata": {},
   "source": [
    "# 01- Python编程概述"
   ]
  },
  {
   "cell_type": "markdown",
   "metadata": {},
   "source": [
    "大纲：\n",
    "\n",
    "- 课程介绍\n",
    "- Python简介\n",
    "- 课程项目的介绍\n",
    "- Python的应用"
   ]
  },
  {
   "cell_type": "markdown",
   "metadata": {},
   "source": [
    "## 课程介绍"
   ]
  },
  {
   "cell_type": "markdown",
   "metadata": {},
   "source": [
    "- QQ号码： 8259558\n",
    "- 邮箱： 8259558@qq.com\n",
    "- 群号：938217339\n",
    "- 课程网站: [https://github.com/zhoujing204/python_course](https://github.com/zhoujing204/python_course)"
   ]
  },
  {
   "cell_type": "markdown",
   "metadata": {},
   "source": [
    "![](./img/2024-08-20-21-08-31.png)"
   ]
  },
  {
   "cell_type": "markdown",
   "metadata": {},
   "source": [
    "### 课程考核"
   ]
  },
  {
   "cell_type": "markdown",
   "metadata": {},
   "source": [
    "- 平时成绩（10%）\n",
    "  - 考勤\n",
    "  - 平时作业\n",
    "- 课程实验（60%）\n",
    "  - 项目一： 外星人入侵游戏\n",
    "  - 项目二： 数据可视化\n",
    "-  期末考查（30%）\n",
    "   -  项目三： Django Web应用"
   ]
  },
  {
   "cell_type": "markdown",
   "metadata": {},
   "source": [
    "## Python简介"
   ]
  },
  {
   "cell_type": "markdown",
   "metadata": {},
   "source": [
    "### Python语言的诞生"
   ]
  },
  {
   "cell_type": "markdown",
   "metadata": {},
   "source": [
    "![Python创始人](./img/2024-08-27-10-18-56.png)"
   ]
  },
  {
   "cell_type": "markdown",
   "metadata": {},
   "source": [
    "- Python 的创始人为荷兰人吉多·范罗苏姆（Guido van Rossum）\n",
    "- 第一版 Python 发行于 1991 年，甚至比 Java 的历史都早。\n",
    "- 在大部分时间内，Python 一直作为一个小众的编程语言，并没有大规模流行起来。\n",
    "- 从2010年左右开始，随着大数据技术、人工智能技术的发展和普及，“简洁、具有良好扩展性”的 Python 非常契合大数据与人工智能技术对编程语言的要求，超越其他编程语言迅速崛起。"
   ]
  },
  {
   "cell_type": "markdown",
   "metadata": {},
   "source": [
    "### 编程语言排名"
   ]
  },
  {
   "cell_type": "markdown",
   "metadata": {},
   "source": [
    "信息来源: [TIOBE INDEX](https://www.tiobe.com/tiobe-index/)"
   ]
  },
  {
   "cell_type": "markdown",
   "metadata": {},
   "source": [
    "![TIOBE INDEX](./img/2024-08-27-10-25-52.png)"
   ]
  },
  {
   "cell_type": "markdown",
   "metadata": {},
   "source": [
    "### Python语言可以做什么"
   ]
  },
  {
   "cell_type": "markdown",
   "metadata": {},
   "source": [
    "- 数据科学\n",
    "- 人工智能\n",
    "- 科学运算\n",
    "- Web应用开发\n",
    "- 服务器管理\n",
    "- 命令行程序\n",
    "- 网络爬虫\n",
    "- 嵌入式开发（MicroPython）\n",
    "- 游戏开发（Pygame）"
   ]
  },
  {
   "cell_type": "markdown",
   "metadata": {},
   "source": [
    "### Python语言的优缺点"
   ]
  },
  {
   "cell_type": "markdown",
   "metadata": {},
   "source": [
    "优点：\n",
    "- 全能的语言\n",
    "- 易于理解和使用\n",
    "- 活跃的开源社区\n",
    "- 丰富的软件库\n",
    "- 非常合适用于开发原型\n",
    "- 生产力高"
   ]
  },
  {
   "cell_type": "markdown",
   "metadata": {},
   "source": [
    "缺点：\n",
    "- python是解释型语言，性能相对较差\n",
    "- 多线程的问题\n",
    "- 不能用于开发原生移动应用\n",
    "- 内存消耗相对较大"
   ]
  },
  {
   "cell_type": "markdown",
   "metadata": {},
   "source": [
    "### Python是解释型语言"
   ]
  },
  {
   "cell_type": "markdown",
   "metadata": {},
   "source": [
    "![Python解释器](./img/2024-08-27-10-36-23.png)"
   ]
  },
  {
   "cell_type": "markdown",
   "metadata": {},
   "source": [
    "- Python是解释型语言，和Java语言不同的是，解释器解释一句，执行一句\n",
    "- 相比编译型语言，解释型语言的性能相对较差。\n"
   ]
  },
  {
   "cell_type": "markdown",
   "metadata": {},
   "source": [
    "### 提升Python语言的性能"
   ]
  },
  {
   "cell_type": "markdown",
   "metadata": {},
   "source": [
    "- Python语言的基础库和扩展库大量地使用了C语言来编写（CPython）。\n",
    "- Python 3.11相比Python 3.10性能提升了10%-60%。\n",
    "- 即时编译特性（JIT）即将加入Python 3.13.\n",
    "- Python 3.13将GIL变得可选，这样将大大提升Python多线程性能."
   ]
  },
  {
   "cell_type": "markdown",
   "metadata": {},
   "source": [
    "## 课程项目的介绍"
   ]
  },
  {
   "cell_type": "markdown",
   "metadata": {},
   "source": [
    "### 项目一: 外星人入侵游戏"
   ]
  },
  {
   "cell_type": "markdown",
   "metadata": {},
   "source": [
    "### 项目二: 数据可视化"
   ]
  },
  {
   "cell_type": "markdown",
   "metadata": {},
   "source": [
    "### 项目三: Django Web应用"
   ]
  },
  {
   "cell_type": "markdown",
   "metadata": {},
   "source": [
    "### Git与Markdown"
   ]
  },
  {
   "cell_type": "markdown",
   "metadata": {},
   "source": [
    "- Git: 版本控制管理工具（Version Control Tool）, 普遍地应用于团队协作来开发软件。\n",
    "\n",
    "- Markdown: "
   ]
  },
  {
   "cell_type": "markdown",
   "metadata": {},
   "source": [
    "## Python的应用展示"
   ]
  },
  {
   "cell_type": "markdown",
   "metadata": {},
   "source": [
    "AI应用：\n",
    "- 深度学习框架： PyTorch, TensorFlow\n",
    "- TensorFlow Playground: 一个用于可视化神经网络的在线工具\n",
    "- 手写数字识别：MNIST\n",
    "- Transformers: 深度学习模型的架构\n",
    "- SAM2(Segment Anything2): 图像和视频的语义分割 \n",
    "- ComfyUI, StableDiffusion: 利用AI模型，文字生成图像\n",
    "- Gradio: 一个用于构建快速原型的Python库，用于构建机器学习和深度学习模型的交互式界面\n",
    "\n",
    "数据科学：\n",
    "-  网络爬虫：BeautifulSoup, Scrapy\n",
    "-  数据处理、数据分析： Numpy和Pandas\n",
    "-  科学计算：SciPy, SymPy, Numpy, Pandas\n",
    "-  数据可视化：Plotly, Dash, Streamlit  \n",
    "\n",
    "嵌入式开发：\n",
    "-  MicroPython\n",
    "\n",
    "Web以及服务端的开发：\n",
    "-  Web框架：Django, Flask\n",
    "-  \n",
    "\n",
    "命令行工具：\n",
    "- 创建简易的Web服务器: http.server\n",
    "- 下载流媒体: youtube-dl\n",
    "- 网络调试工具: mitmproxy"
   ]
  },
  {
   "cell_type": "markdown",
   "metadata": {},
   "source": [
    "### AI应用"
   ]
  },
  {
   "cell_type": "markdown",
   "metadata": {},
   "source": [
    "## 总结"
   ]
  },
  {
   "cell_type": "markdown",
   "metadata": {},
   "source": [
    "![Luwig Wittgenstein](./img/2024-08-27-10-47-04.png)"
   ]
  },
  {
   "cell_type": "markdown",
   "metadata": {},
   "source": [
    "> “The limits of my language are the limits of my world”—Ludwig Wittgenstein (1889-1951) \n",
    "\n",
    "\n",
    "> “我的语言的局限就是我的世界的局限.”-- Ludwig Wittgenstein (1889-1951) "
   ]
  }
 ],
 "metadata": {
  "kernelspec": {
   "display_name": "Python 3",
   "language": "python",
   "name": "python3"
  },
  "language_info": {
   "name": "python",
   "version": "3.12.0"
  }
 },
 "nbformat": 4,
 "nbformat_minor": 2
}
