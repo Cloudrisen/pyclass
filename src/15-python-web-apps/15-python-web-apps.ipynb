{
 "cells": [
  {
   "cell_type": "markdown",
   "metadata": {},
   "source": [
    "# 15: Python Web应用程序"
   ]
  },
  {
   "cell_type": "markdown",
   "metadata": {},
   "source": [
    "- Django Web应用程序\n",
    "- Flask Web应用程序\n",
    "- Streamlit数据分析Web应用程序\n",
    "- Gradio AI Web应用程序"
   ]
  },
  {
   "cell_type": "markdown",
   "metadata": {},
   "source": [
    "## Python虚拟环境"
   ]
  },
  {
   "cell_type": "markdown",
   "metadata": {},
   "source": [
    "### venv"
   ]
  },
  {
   "cell_type": "markdown",
   "metadata": {},
   "source": [
    "1. 使用`venv`创建虚拟环境\n",
    "2. 激活虚拟环境\n",
    "3. 在虚拟环境中安装软件包\n",
    "\n",
    "```bash   \n",
    "python -m venv venv\n",
    ".\\venv\\Scripts\\activate\n",
    "pip install -r requirements.txt\n",
    "```"
   ]
  },
  {
   "cell_type": "markdown",
   "metadata": {},
   "source": [
    "使用`venv`创建虚拟环境方便迅速，但是存在一些缺点：\n",
    "\n",
    "- 不能选择Python版本，只能使用系统默认的Python版本\n",
    "- 不能共享虚拟环境"
   ]
  },
  {
   "cell_type": "markdown",
   "metadata": {},
   "source": [
    "### Anaconda"
   ]
  },
  {
   "cell_type": "markdown",
   "metadata": {},
   "source": [
    "1. 下载安装：[Anaconda](https://www.anaconda.com/download)\n",
    "2. 查看需要使用的命令：[conda cheat sheet](https://docs.conda.io/projects/conda/en/4.6.0/_downloads/52a95608c49671267e40c689e0bc00ca/conda-cheatsheet.pdf)\n",
    "3. 打开Anaconda的终端，使用`conda`命令创建虚拟环境；\n",
    "4. 激活虚拟环境；\n",
    "5. 在虚拟环境中安装软件包。"
   ]
  },
  {
   "cell_type": "markdown",
   "metadata": {},
   "source": [
    "使用Anaconda的优点：\n",
    "\n",
    "1. 可以选择Python版本；\n",
    "2. 可以共享虚拟环境；\n",
    "3. 可以更加方便地管理虚拟环境：复制、删除、导出、导入等；\n",
    "4. Anaconda还提供了很多功能强大的软件包，例如： Jupyter Notebook。"
   ]
  },
  {
   "cell_type": "markdown",
   "metadata": {},
   "source": [
    "### WSL"
   ]
  },
  {
   "cell_type": "markdown",
   "metadata": {},
   "source": [
    "WSL（Windows Subsystem for Linux）是Windows操作系统中的一个功能，它允许用户在Windows上运行Linux程序。使用WSL有以下几个好处：\n",
    "\n",
    "1. ⚙️兼容性：WSL提供了一个完整的Linux内核，使得在Windows上运行的Linux程序能够以相同的方式在Linux中运行。这意味着开发人员可以在Windows上开发和测试Linux应用程序，而不需要额外的硬件或虚拟机。\n",
    "\n",
    "2. 🔌 方便性：使用WSL，用户可以在Windows终端中直接运行Linux命令，而不需要打开虚拟机或切换到另一个操作系统。我们可以直接使用vscode直接打开WSL中的文件夹，进行项目的开发和调试。\n",
    "\n",
    "3. 🆙生产力：对于开发人员来说，WSL可以提高他们的生产力。他们可以在Windows上使用vscode进行开发，同时直接使用常见的Linux工具和命令行界面，而不需要为了运行Linux程序而切换到另一个操作系统。\n",
    "\n",
    "4. 🛡️安全性：由于WSL是在Windows操作系统中运行的，因此它可以利用Windows的安全特性和机制。这意味着在WSL中运行的Linux程序相对于在独立的Linux系统中运行更加安全。"
   ]
  },
  {
   "cell_type": "markdown",
   "metadata": {},
   "source": [
    "安装WSL的步骤： [视频链接](https://www.bilibili.com/video/BV1PM4y1m75e/?spm_id_from=333.337.search-card.all.click&vd_source=fcb244788c384f6ac111b4d9d46105e2)"
   ]
  },
  {
   "cell_type": "markdown",
   "metadata": {},
   "source": [
    "## Django Web应用程序"
   ]
  },
  {
   "cell_type": "code",
   "execution_count": 3,
   "metadata": {},
   "outputs": [
    {
     "data": {
      "text/plain": [
       "'Hello World!'"
      ]
     },
     "execution_count": 3,
     "metadata": {},
     "output_type": "execute_result"
    }
   ],
   "source": [
    "message = 'Hello World!'\n",
    "message"
   ]
  },
  {
   "cell_type": "markdown",
   "metadata": {},
   "source": [
    "Django的插件和第三方的库： [awesome-django](https://github.com/wsvincent/awesome-django)"
   ]
  },
  {
   "cell_type": "markdown",
   "metadata": {},
   "source": [
    "## Flask Web应用程序"
   ]
  },
  {
   "cell_type": "markdown",
   "metadata": {},
   "source": [
    "比较Django和Flask\n",
    "\n",
    "1. 复杂度：\n",
    "   - Django是一种\"全功能\"框架，提供了许多内置的功能和工具，如ORM（对象关系映射）、表单处理、用户认证等。它有一个丰富的生态系统和一套完整的文档。Django适合构建大型和复杂的Web应用程序。\n",
    "   - Flask是一种\"微框架\"，提供了最基本的功能，如路由、请求处理和模板渲染。它的目标是简单和灵活，允许开发人员根据自己的需求选择和集成其他工具。Flask适合构建小型和中型的Web应用程序。\n",
    "\n",
    "2. 学习曲线：\n",
    "   - 由于Django具有大量的内置功能和约定，学习曲线较陡峭。初学者可能需要花一些时间来学习Django的文件结构、ORM和其他相关概念。\n",
    "   - Flask相对来说学习曲线较平缓。它的设计非常直观，只需要几个简单的概念和API就能快速上手。\n",
    "\n",
    "3. 灵活性：\n",
    "   - Flask提供了很大的灵活性，它允许开发人员根据自己的需求选择和集成所需的库和工具。Flask没有内置的ORM，但它可以与许多流行的ORM库集成。\n",
    "   - Django虽然提供了很多内置工具，但它也限制了一些灵活性。例如，在数据库选择方面，Django更适合使用自己的ORM。\n",
    "\n",
    "4. 社区和生态系统：\n",
    "   - Django拥有庞大的社区和生态系统，有很多第三方插件和扩展可供使用。这使得在Django上构建复杂的Web应用程序变得更加容易。\n",
    "   - Flask的社区和生态系统相对较小，但仍然有许多有用的插件和扩展可用。"
   ]
  },
  {
   "cell_type": "markdown",
   "metadata": {},
   "source": [
    "![flower petal and setal](./Mature_flower_diagram.svg.png)"
   ]
  },
  {
   "cell_type": "code",
   "execution_count": null,
   "metadata": {},
   "outputs": [],
   "source": [
    "from dash import Dash, dcc, html, Input, Output\n",
    "import plotly.express as px\n",
    "\n",
    "app = Dash(__name__)\n",
    "\n",
    "app.layout = html.Div([\n",
    "    html.H4('Analysis of Iris data using scatter matrix'),\n",
    "    dcc.Dropdown(\n",
    "        id=\"plotly-express-x-dropdown\",\n",
    "        options=['sepal_length', 'sepal_width', 'petal_length', 'petal_width'],\n",
    "        value=['sepal_length', 'sepal_width'],\n",
    "        multi=True\n",
    "    ),\n",
    "    dcc.Graph(id=\"plotly-express-x-graph\"),\n",
    "])\n",
    "\n",
    "\n",
    "@app.callback(\n",
    "    Output(\"plotly-express-x-graph\", \"figure\"), \n",
    "    Input(\"plotly-express-x-dropdown\", \"value\"))\n",
    "def update_bar_chart(dims):\n",
    "    df = px.data.iris() # replace with your own data source\n",
    "    fig = px.scatter_matrix(\n",
    "        df, dimensions=dims, color=\"species\")\n",
    "    return fig\n",
    "\n",
    "\n",
    "if __name__ == \"__main__\":\n",
    "    app.run_server(debug=True)"
   ]
  },
  {
   "cell_type": "markdown",
   "metadata": {},
   "source": [
    "ChatGPT的简单的范例：[OpenAI quick start](https://github.com/openai/openai-quickstart-python)"
   ]
  },
  {
   "cell_type": "markdown",
   "metadata": {},
   "source": [
    "## Streamlit数据分析Web应用程序"
   ]
  },
  {
   "cell_type": "code",
   "execution_count": null,
   "metadata": {},
   "outputs": [],
   "source": []
  },
  {
   "cell_type": "markdown",
   "metadata": {},
   "source": [
    "## Gradio AI Web应用程序"
   ]
  },
  {
   "cell_type": "code",
   "execution_count": null,
   "metadata": {},
   "outputs": [],
   "source": []
  }
 ],
 "metadata": {
  "kernelspec": {
   "display_name": "Python 3",
   "language": "python",
   "name": "python3"
  },
  "language_info": {
   "codemirror_mode": {
    "name": "ipython",
    "version": 3
   },
   "file_extension": ".py",
   "mimetype": "text/x-python",
   "name": "python",
   "nbconvert_exporter": "python",
   "pygments_lexer": "ipython3",
   "version": "3.10.6"
  },
  "orig_nbformat": 4
 },
 "nbformat": 4,
 "nbformat_minor": 2
}
